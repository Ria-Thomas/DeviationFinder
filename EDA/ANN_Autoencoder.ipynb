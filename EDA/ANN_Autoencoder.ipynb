{
 "cells": [
  {
   "cell_type": "code",
   "execution_count": 168,
   "metadata": {},
   "outputs": [],
   "source": [
    "##Importing all dependencies\n",
    "\n",
    "import tensorflow as tf\n",
    "from tensorflow.keras.models import Sequential\n",
    "from tensorflow.keras.layers import Dense, Activation\n",
    "from keras import regularizers "
   ]
  },
  {
   "cell_type": "code",
   "execution_count": 169,
   "metadata": {},
   "outputs": [],
   "source": [
    "##Reading the data\n",
    "\n",
    "import pandas as pd\n",
    "data = pd.read_csv('C:/Users/Keerthi Ningegowda/Desktop/bd2_data/data.csv')\n",
    "X = data[['Z']]\n"
   ]
  },
  {
   "cell_type": "code",
   "execution_count": 170,
   "metadata": {},
   "outputs": [],
   "source": [
    "##Performing Z-normalization\n",
    "\n",
    "from sklearn.preprocessing import StandardScaler\n",
    "\n",
    "scaler = StandardScaler(with_mean=True,with_std=True)\n",
    "X = scaler.fit_transform(X)"
   ]
  },
  {
   "cell_type": "code",
   "execution_count": 171,
   "metadata": {},
   "outputs": [],
   "source": [
    "##Denoising the data using moving averages\n",
    "\n",
    "movAvg = pd.DataFrame(data=X[:],\n",
    "                     columns = ['Zmovavg'])\n",
    "movAvg = movAvg.rolling(window=1).mean().dropna()"
   ]
  },
  {
   "cell_type": "code",
   "execution_count": 172,
   "metadata": {},
   "outputs": [
    {
     "name": "stdout",
     "output_type": "stream",
     "text": [
      "Train on 82342 samples, validate on 9150 samples\n",
      "Epoch 1/50\n",
      "82342/82342 [==============================] - 12s 151us/sample - loss: 0.0985 - val_loss: 0.0575\n",
      "Epoch 2/50\n",
      "82342/82342 [==============================] - 10s 118us/sample - loss: 0.0559 - val_loss: 0.0506\n",
      "Epoch 3/50\n",
      "82342/82342 [==============================] - 9s 114us/sample - loss: 0.0504 - val_loss: 0.0489\n",
      "Epoch 4/50\n",
      "82342/82342 [==============================] - 10s 120us/sample - loss: 0.0463 - val_loss: 0.0411\n",
      "Epoch 5/50\n",
      "82342/82342 [==============================] - 10s 119us/sample - loss: 0.0433 - val_loss: 0.0404\n",
      "Epoch 6/50\n",
      "82342/82342 [==============================] - 9s 112us/sample - loss: 0.0411 - val_loss: 0.0411\n",
      "Epoch 7/50\n",
      "82342/82342 [==============================] - 9s 110us/sample - loss: 0.0393 - val_loss: 0.0393\n",
      "Epoch 8/50\n",
      "82342/82342 [==============================] - 9s 109us/sample - loss: 0.0379 - val_loss: 0.0366\n",
      "Epoch 9/50\n",
      "82342/82342 [==============================] - 9s 111us/sample - loss: 0.0364 - val_loss: 0.0471\n",
      "Epoch 10/50\n",
      "82342/82342 [==============================] - 9s 111us/sample - loss: 0.0358 - val_loss: 0.0338\n",
      "Epoch 11/50\n",
      "82342/82342 [==============================] - 9s 106us/sample - loss: 0.0349 - val_loss: 0.0438\n",
      "Epoch 12/50\n",
      "82342/82342 [==============================] - 9s 112us/sample - loss: 0.0345 - val_loss: 0.0293\n",
      "Epoch 13/50\n",
      "82342/82342 [==============================] - 10s 116us/sample - loss: 0.0338 - val_loss: 0.0330\n",
      "Epoch 14/50\n",
      "82342/82342 [==============================] - 10s 115us/sample - loss: 0.0332 - val_loss: 0.0302\n",
      "Epoch 15/50\n",
      "82342/82342 [==============================] - 10s 116us/sample - loss: 0.0328 - val_loss: 0.0366\n",
      "Epoch 16/50\n",
      "82342/82342 [==============================] - 10s 118us/sample - loss: 0.0325 - val_loss: 0.0321\n",
      "Epoch 17/50\n",
      "82342/82342 [==============================] - 9s 112us/sample - loss: 0.0320 - val_loss: 0.0292\n",
      "Epoch 18/50\n",
      "82342/82342 [==============================] - 9s 110us/sample - loss: 0.0317 - val_loss: 0.0367\n",
      "Epoch 19/50\n",
      "82342/82342 [==============================] - 10s 115us/sample - loss: 0.0314 - val_loss: 0.0292\n",
      "Epoch 20/50\n",
      "82342/82342 [==============================] - 9s 113us/sample - loss: 0.0310 - val_loss: 0.0338\n",
      "Epoch 21/50\n",
      "82342/82342 [==============================] - 10s 126us/sample - loss: 0.0307 - val_loss: 0.0343\n",
      "Epoch 22/50\n",
      "82342/82342 [==============================] - 9s 114us/sample - loss: 0.0300 - val_loss: 0.0293\n",
      "Epoch 23/50\n",
      "82342/82342 [==============================] - 9s 108us/sample - loss: 0.0301 - val_loss: 0.0284\n",
      "Epoch 24/50\n",
      "82342/82342 [==============================] - 10s 119us/sample - loss: 0.0297 - val_loss: 0.0260\n",
      "Epoch 25/50\n",
      "82342/82342 [==============================] - 9s 109us/sample - loss: 0.0293 - val_loss: 0.0299\n",
      "Epoch 26/50\n",
      "82342/82342 [==============================] - 10s 119us/sample - loss: 0.0292 - val_loss: 0.0288\n",
      "Epoch 27/50\n",
      "82342/82342 [==============================] - 10s 118us/sample - loss: 0.0290 - val_loss: 0.0299\n",
      "Epoch 28/50\n",
      "82342/82342 [==============================] - 9s 114us/sample - loss: 0.0284 - val_loss: 0.0336\n",
      "Epoch 29/50\n",
      "82342/82342 [==============================] - 10s 122us/sample - loss: 0.0284 - val_loss: 0.0285\n",
      "Epoch 30/50\n",
      "82342/82342 [==============================] - 9s 110us/sample - loss: 0.0281 - val_loss: 0.0294\n",
      "Epoch 31/50\n",
      "82342/82342 [==============================] - 9s 109us/sample - loss: 0.0278 - val_loss: 0.0315\n",
      "Epoch 32/50\n",
      "82342/82342 [==============================] - 10s 119us/sample - loss: 0.0276 - val_loss: 0.0222\n",
      "Epoch 33/50\n",
      "82342/82342 [==============================] - 9s 112us/sample - loss: 0.0273 - val_loss: 0.0245\n",
      "Epoch 34/50\n",
      "82342/82342 [==============================] - 9s 113us/sample - loss: 0.0268 - val_loss: 0.0311\n",
      "Epoch 35/50\n",
      "82342/82342 [==============================] - 9s 109us/sample - loss: 0.0267 - val_loss: 0.0220\n",
      "Epoch 36/50\n",
      "82342/82342 [==============================] - 9s 110us/sample - loss: 0.0262 - val_loss: 0.0261\n",
      "Epoch 37/50\n",
      "82342/82342 [==============================] - 9s 107us/sample - loss: 0.0254 - val_loss: 0.0222\n",
      "Epoch 38/50\n",
      "82342/82342 [==============================] - 9s 109us/sample - loss: 0.0252 - val_loss: 0.0247\n",
      "Epoch 39/50\n",
      "82342/82342 [==============================] - 9s 108us/sample - loss: 0.0250 - val_loss: 0.0203\n",
      "Epoch 40/50\n",
      "82342/82342 [==============================] - 9s 110us/sample - loss: 0.0249 - val_loss: 0.0213\n",
      "Epoch 41/50\n",
      "82342/82342 [==============================] - 10s 117us/sample - loss: 0.0248 - val_loss: 0.0229\n",
      "Epoch 42/50\n",
      "82342/82342 [==============================] - 11s 136us/sample - loss: 0.0246 - val_loss: 0.0249\n",
      "Epoch 43/50\n",
      "82342/82342 [==============================] - 11s 128us/sample - loss: 0.0243 - val_loss: 0.0217\n",
      "Epoch 44/50\n",
      "82342/82342 [==============================] - 9s 115us/sample - loss: 0.0239 - val_loss: 0.0214\n",
      "Epoch 45/50\n",
      "82342/82342 [==============================] - 11s 131us/sample - loss: 0.0240 - val_loss: 0.0237\n",
      "Epoch 46/50\n",
      "82342/82342 [==============================] - 9s 112us/sample - loss: 0.0237 - val_loss: 0.0268\n",
      "Epoch 47/50\n",
      "82342/82342 [==============================] - 9s 109us/sample - loss: 0.0237 - val_loss: 0.0236\n",
      "Epoch 48/50\n",
      "82342/82342 [==============================] - 9s 114us/sample - loss: 0.0236 - val_loss: 0.0198\n",
      "Epoch 49/50\n",
      "82342/82342 [==============================] - 10s 117us/sample - loss: 0.0235 - val_loss: 0.0249\n",
      "Epoch 50/50\n",
      "82342/82342 [==============================] - 9s 109us/sample - loss: 0.0235 - val_loss: 0.0268\n"
     ]
    }
   ],
   "source": [
    "##Defining and fitting the neural network\n",
    "\n",
    "model = Sequential()\n",
    "model.add(Dense(10, input_dim=1, activation='relu',kernel_regularizer=regularizers.l2(0.01)))\n",
    "model.add(Dense(5, activation='relu',kernel_regularizer=regularizers.l2(0.01)))\n",
    "model.add(Dense(5, activation='relu',kernel_regularizer=regularizers.l2(0.01)))\n",
    "model.add(Dense(10, activation = 'relu', kernel_regularizer=regularizers.l2(0.01)))\n",
    "#model.add(Dense(12, activation='relu',kernel_regularizer=regularizers.l2(0.01)))# Multiple output neurons\n",
    "model.add(Dense(1))\n",
    "model.compile(loss='mean_absolute_error', optimizer='adam')\n",
    "record = model.fit(movAvg,movAvg,batch_size=10,validation_split = 0.1,epochs=50)"
   ]
  },
  {
   "cell_type": "code",
   "execution_count": 123,
   "metadata": {},
   "outputs": [
    {
     "data": {
      "image/png": "[encoded data removed]",
      "text/plain": [
       "<Figure size 1120x480 with 1 Axes>"
      ]
     },
     "metadata": {
      "needs_background": "light"
     },
     "output_type": "display_data"
    }
   ],
   "source": [
    "##Plotting the training loss\n",
    "\n",
    "import matplotlib.pyplot as plt\n",
    "fig, ax = plt.subplots(figsize=(14,6), dpi=80)\n",
    "ax.plot(record.history['loss'],'b',label='Train',linewidth=2)\n",
    "ax.set_ylabel('Loss')\n",
    "ax.set_xlabel('Epoch')\n",
    "ax.legend()\n",
    "plt.show()"
   ]
  },
  {
   "cell_type": "code",
   "execution_count": 173,
   "metadata": {},
   "outputs": [],
   "source": [
    "##Calculating the reconstruction error\n",
    "\n",
    "import numpy as np\n",
    "from sklearn.metrics import mean_absolute_error\n",
    "from sklearn.metrics import mean_squared_error\n",
    "\n",
    "Y_true = movAvg['Zmovavg']\n",
    "Y_pred = model.predict(Y_true)\n",
    "\n",
    "predicted_data = pd.DataFrame(columns=['Y_true','Y_pred','abs_error'])\n",
    "\n",
    "predicted_data['Y_true'] = Y_true\n",
    "predicted_data['Y_pred'] = Y_pred\n",
    "predicted_data['abs_error'] = np.abs(predicted_data['Y_true']-predicted_data['Y_pred'])\n"
   ]
  },
  {
   "cell_type": "code",
   "execution_count": 174,
   "metadata": {},
   "outputs": [
    {
     "name": "stdout",
     "output_type": "stream",
     "text": [
      "0.012026821815617872\n"
     ]
    }
   ],
   "source": [
    "##Seting the threshold\n",
    "\n",
    "threshold = np.percentile(predicted_data['abs_error'], 95)\n",
    "print(threshold)"
   ]
  },
  {
   "cell_type": "code",
   "execution_count": 92,
   "metadata": {},
   "outputs": [
    {
     "name": "stdout",
     "output_type": "stream",
     "text": [
      "Saved trained model at ANN_Elevator.h5 \n"
     ]
    }
   ],
   "source": [
    "##Saving the model\n",
    "\n",
    "model_name = 'ANN_Elevator.h5'\n",
    "model.save(model_name)\n",
    "print('Saved trained model at %s ' % model_name)\n",
    "model_json = model.to_json()\n",
    "with open(\"ANN_model.json\", \"w\") as json_file:\n",
    "    json_file.write(model_json)"
   ]
  },
  {
   "cell_type": "code",
   "execution_count": 57,
   "metadata": {},
   "outputs": [
    {
     "name": "stdout",
     "output_type": "stream",
     "text": [
      "Loaded model from disk\n"
     ]
    }
   ],
   "source": [
    "# Load the model\n",
    "from tensorflow.python.keras.models import model_from_json\n",
    "json_file = open('ANN_model.json', 'r')\n",
    "loaded_model_json = json_file.read()\n",
    "json_file.close()\n",
    "model = model_from_json(loaded_model_json)\n",
    "# load weights into new model\n",
    "model.load_weights(\"ANN_Elevator.h5\")\n",
    "print(\"Loaded model from disk\")"
   ]
  },
  {
   "cell_type": "code",
   "execution_count": 189,
   "metadata": {},
   "outputs": [],
   "source": [
    "##Creating confusion matrix\n",
    "\n",
    "from sklearn.metrics import confusion_matrix\n",
    "\n",
    "tn,fp,fn,tp = confusion_matrix(new_data['Anomaly'],error_df['label']).ravel()"
   ]
  },
  {
   "cell_type": "code",
   "execution_count": 190,
   "metadata": {},
   "outputs": [],
   "source": [
    "#Caculation precision,recall, and f1 score\n",
    "precision = tp/(tp + fp)\n",
    "recall = tp/(tp + fn) \n",
    "f1_score = (2*(precision * recall))/(precision + recall)"
   ]
  },
  {
   "cell_type": "code",
   "execution_count": 201,
   "metadata": {},
   "outputs": [
    {
     "name": "stdout",
     "output_type": "stream",
     "text": [
      "True positive: 21\n",
      "True negative: 1441\n",
      "False positive: 30\n",
      "False negative: 28\n"
     ]
    }
   ],
   "source": [
    "print('True positive:',tp)\n",
    "print('True negative:',tn)\n",
    "print('False positive:',fp)\n",
    "print('False negative:',fn)"
   ]
  },
  {
   "cell_type": "code",
   "execution_count": 202,
   "metadata": {},
   "outputs": [
    {
     "name": "stdout",
     "output_type": "stream",
     "text": [
      "Precsion: 0.4117647058823529\n",
      "F1 score: 0.42\n"
     ]
    }
   ],
   "source": [
    "print('Precsion:',precision)\n",
    "print('F1 score:',f1_score)"
   ]
  }
 ],
 "metadata": {
  "kernelspec": {
   "display_name": "Python 3",
   "language": "python",
   "name": "python3"
  },
  "language_info": {
   "codemirror_mode": {
    "name": "ipython",
    "version": 3
   },
   "file_extension": ".py",
   "mimetype": "text/x-python",
   "name": "python",
   "nbconvert_exporter": "python",
   "pygments_lexer": "ipython3",
   "version": "3.7.6"
  }
 },
 "nbformat": 4,
 "nbformat_minor": 4
}
