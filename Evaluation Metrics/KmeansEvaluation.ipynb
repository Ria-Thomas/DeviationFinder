{
  "nbformat": 4,
  "nbformat_minor": 0,
  "metadata": {
    "colab": {
      "name": "KmeansEvaluation.ipynb",
      "provenance": [],
      "collapsed_sections": []
    },
    "kernelspec": {
      "name": "python3",
      "display_name": "Python 3"
    }
  },
  "cells": [
    {
      "cell_type": "code",
      "metadata": {
        "id": "6yM435-PlYuL",
        "colab_type": "code",
        "colab": {}
      },
      "source": [
        "##Author : Vipin Das\n",
        "##Master's in Computer Science with Big Data \n",
        "##Simon Fraser University, Burnaby\n",
        "##Created on : April 10, 2020"
      ],
      "execution_count": 0,
      "outputs": []
    },
    {
      "cell_type": "code",
      "metadata": {
        "id": "2J3C5OaUAHwi",
        "colab_type": "code",
        "colab": {}
      },
      "source": [
        "!apt-get install openjdk-8-jdk-headless -qq > /dev/null\n",
        "!wget -q https://downloads.apache.org/spark/spark-2.4.5/spark-2.4.5-bin-hadoop2.7.tgz\n",
        "!tar xf spark-2.4.5-bin-hadoop2.7.tgz\n",
        "!pip install -q findspark"
      ],
      "execution_count": 0,
      "outputs": []
    },
    {
      "cell_type": "code",
      "metadata": {
        "id": "fFiUU5acAQK5",
        "colab_type": "code",
        "colab": {}
      },
      "source": [
        "import os\n",
        "os.environ[\"JAVA_HOME\"] = \"/usr/lib/jvm/java-8-openjdk-amd64\"\n",
        "os.environ[\"SPARK_HOME\"] = \"/content/spark-2.4.5-bin-hadoop2.7\""
      ],
      "execution_count": 0,
      "outputs": []
    },
    {
      "cell_type": "code",
      "metadata": {
        "id": "VT-84LI6BhO2",
        "colab_type": "code",
        "colab": {}
      },
      "source": [
        "import findspark\n",
        "findspark.init()"
      ],
      "execution_count": 0,
      "outputs": []
    },
    {
      "cell_type": "code",
      "metadata": {
        "id": "bR-ZNfNVJGWJ",
        "colab_type": "code",
        "colab": {}
      },
      "source": [
        "from pyspark.sql import SparkSession, functions, types\n",
        "from pyspark.ml.feature import StandardScaler\n",
        "from pyspark.ml.feature import VectorAssembler\n",
        "from pyspark.sql.functions import col, mean, stddev, stddev_pop, avg, max, to_timestamp, udf, desc, min\n",
        "from pyspark.ml.feature import VectorAssembler, SQLTransformer, StandardScaler\n",
        "from pyspark.ml.clustering import KMeansModel\n",
        "import pandas as pd\n",
        "\n",
        "from pyspark.sql import Window\n",
        "\n",
        "spark = SparkSession.builder.appName('Kmeans-Lift1').getOrCreate()\n",
        "spark.sparkContext.setLogLevel('WARN')\n",
        "assert spark.version >= '2.4'  # make sure we have Spark 2.4+\n",
        "\n",
        "from pyspark.ml import Pipeline\n",
        "from pyspark.ml.clustering import KMeans\n",
        "from pyspark.ml.evaluation import ClusteringEvaluator\n",
        "\n",
        "\n",
        "def sensor_schema():\n",
        "    sen_schema = types.StructType([\n",
        "        types.StructField('timestamp', types.StringType()),\n",
        "        types.StructField('Z', types.DoubleType()),\n",
        "        types.StructField('Anomaly', types.IntegerType())\n",
        "    ])\n",
        "    return sen_schema\n",
        "def calc_score(count, min_max_collection):\n",
        "    min_count = float(min_max_collection[0])\n",
        "    max_count = float(min_max_collection[1])\n",
        "    score = (max_count - count) / (max_count - min_count)\n",
        "    return score\n",
        "def calc_anom(score):\n",
        "    if score > 0.9999:\n",
        "        value = 1\n",
        "    else:\n",
        "        value = 0\n",
        "    return value\n",
        "sens_schema = sensor_schema()\n",
        "# Spark read of data\n",
        "temp = spark.read.csv('/content/drive/My Drive/nor_window_data.csv', schema=sens_schema)"
      ],
      "execution_count": 0,
      "outputs": []
    },
    {
      "cell_type": "code",
      "metadata": {
        "id": "cAtaT6X1LqAO",
        "colab_type": "code",
        "colab": {}
      },
      "source": [
        "temp = temp.filter(temp['timestamp'].isNotNull())"
      ],
      "execution_count": 0,
      "outputs": []
    },
    {
      "cell_type": "code",
      "metadata": {
        "id": "6fR4268dKG37",
        "colab_type": "code",
        "colab": {}
      },
      "source": [
        "unlist = udf(lambda x: round(float(list(x)[0]), 6), types.DoubleType())"
      ],
      "execution_count": 0,
      "outputs": []
    },
    {
      "cell_type": "code",
      "metadata": {
        "id": "o8SJutnnLUNh",
        "colab_type": "code",
        "colab": {}
      },
      "source": [
        "assembler = VectorAssembler(\n",
        "        inputCols=[\"Z\"],\n",
        "        outputCol=\"Zvector\")\n",
        "tempdata = assembler.transform(temp)\n",
        "scaler = StandardScaler(inputCol=\"Zvector\", outputCol=\"Zscale\", withMean=True, withStd=True)\n",
        "scalerModel = scaler.fit(tempdata)\n",
        "scaledData = scalerModel.transform(tempdata).withColumn(\"Zscale\", unlist(\"Zscale\")).drop(\"Zvector\").cache()"
      ],
      "execution_count": 0,
      "outputs": []
    },
    {
      "cell_type": "code",
      "metadata": {
        "id": "wVEuCOzELde1",
        "colab_type": "code",
        "colab": {}
      },
      "source": [
        "scaledData = scaledData.withColumn(\"times\", to_timestamp(\"timestamp\", 'yyyy-MM-dd HH:mm:ss')).cache()\n",
        "movAvg = scaledData.withColumn(\"movingAverage\", avg(scaledData[\"Zscale\"])\n",
        "                                   .over(Window.partitionBy(scaledData[\"times\"]).rowsBetween(-3, 3))).cache()\n",
        "movAvg.createOrReplaceTempView(\"movAvg\")\n",
        "scaledNorm = spark.sql(\"select timestamp,times,Z,Zscale,round(movingAverage,0) as Zround from movAvg\").cache()"
      ],
      "execution_count": 0,
      "outputs": []
    },
    {
      "cell_type": "code",
      "metadata": {
        "id": "Rv9yFmx3M3kO",
        "colab_type": "code",
        "colab": {}
      },
      "source": [
        "cols = [\"Zscale\", \"Zround\"]\n",
        "ft_assembler = VectorAssembler(inputCols=cols, outputCol=\"features\")\n",
        "in_df = ft_assembler.transform(scaledNorm)"
      ],
      "execution_count": 0,
      "outputs": []
    },
    {
      "cell_type": "code",
      "metadata": {
        "id": "lhyPyvPXM8xv",
        "colab_type": "code",
        "colab": {}
      },
      "source": [
        "# load the model\n",
        "model = KMeansModel.load('/content/drive/My Drive/Model')\n",
        "\n",
        "# use the model to make predictions\n",
        "predict = model.transform(in_df)\n",
        "\n",
        "# Calculate the total count of each cluster\n",
        "count_df = predict.groupBy(\"prediction\").count().cache()"
      ],
      "execution_count": 0,
      "outputs": []
    },
    {
      "cell_type": "code",
      "metadata": {
        "id": "rqEmJalaOO0e",
        "colab_type": "code",
        "outputId": "85f1117b-214c-4562-af7b-ff1f6562a770",
        "colab": {
          "base_uri": "https://localhost:8080/",
          "height": 469
        }
      },
      "source": [
        "predict.show()"
      ],
      "execution_count": 0,
      "outputs": [
        {
          "output_type": "stream",
          "text": [
            "+---------+-----+--------+---------+------+---------------+----------+\n",
            "|timestamp|times|       Z|   Zscale|Zround|       features|prediction|\n",
            "+---------+-----+--------+---------+------+---------------+----------+\n",
            "|  35:27.0| null|0.789063| 0.065031|   0.0| [0.065031,0.0]|         4|\n",
            "|  35:27.0| null|0.785156|-0.161642|   0.0|[-0.161642,0.0]|         5|\n",
            "|  35:27.1| null| 0.78125|-0.388257|   0.0|[-0.388257,0.0]|         5|\n",
            "|  35:27.1| null|0.785156|-0.161642|   0.0|[-0.161642,0.0]|         5|\n",
            "|  35:27.1| null|0.789063| 0.065031|   0.0| [0.065031,0.0]|         4|\n",
            "|  35:27.2| null| 0.78125|-0.388257|   0.0|[-0.388257,0.0]|         5|\n",
            "|  35:27.2| null|0.789063| 0.065031|   0.0| [0.065031,0.0]|         4|\n",
            "|  35:27.3| null|0.785156|-0.161642|   0.0|[-0.161642,0.0]|         5|\n",
            "|  35:27.3| null|0.785156|-0.161642|   0.0|[-0.161642,0.0]|         5|\n",
            "|  35:27.3| null| 0.78125|-0.388257|   0.0|[-0.388257,0.0]|         5|\n",
            "|  35:27.4| null| 0.78125|-0.388257|   0.0|[-0.388257,0.0]|         5|\n",
            "|  35:27.4| null| 0.78125|-0.388257|   0.0|[-0.388257,0.0]|         5|\n",
            "|  35:27.5| null|0.789063| 0.065031|   0.0| [0.065031,0.0]|         4|\n",
            "|  35:27.5| null|0.785156|-0.161642|   0.0|[-0.161642,0.0]|         5|\n",
            "|  35:27.5| null|0.785156|-0.161642|   0.0|[-0.161642,0.0]|         5|\n",
            "|  35:27.6| null|0.789063| 0.065031|   0.0| [0.065031,0.0]|         4|\n",
            "|  35:27.6| null|0.789063| 0.065031|   0.0| [0.065031,0.0]|         4|\n",
            "|  35:27.6| null|0.785156|-0.161642|   0.0|[-0.161642,0.0]|         5|\n",
            "|  35:27.7| null|0.785156|-0.161642|   0.0|[-0.161642,0.0]|         5|\n",
            "|  35:27.7| null|0.785156|-0.161642|   0.0|[-0.161642,0.0]|         5|\n",
            "+---------+-----+--------+---------+------+---------------+----------+\n",
            "only showing top 20 rows\n",
            "\n"
          ],
          "name": "stdout"
        }
      ]
    },
    {
      "cell_type": "code",
      "metadata": {
        "id": "6yt5PhkVNfcx",
        "colab_type": "code",
        "colab": {}
      },
      "source": [
        "min_max_list = count_df.agg(min('count'), max('count')).collect()[0]\n",
        "\n",
        "    # Calculating the scores\n",
        "udf_calc_score = udf(lambda count: calc_score(float(count), min_max_list), types.FloatType())\n",
        "anom_score = count_df.withColumn(\"score\", udf_calc_score(\"count\")).cache()\n"
      ],
      "execution_count": 0,
      "outputs": []
    },
    {
      "cell_type": "code",
      "metadata": {
        "id": "Xp7i1JPHOoXv",
        "colab_type": "code",
        "outputId": "bf5370a5-a352-44d3-9e31-320c3b6b0d7c",
        "colab": {
          "base_uri": "https://localhost:8080/",
          "height": 225
        }
      },
      "source": [
        "anom_score.show()"
      ],
      "execution_count": 0,
      "outputs": [
        {
          "output_type": "stream",
          "text": [
            "+----------+-----+----------+\n",
            "|prediction|count|     score|\n",
            "+----------+-----+----------+\n",
            "|         1|   30|0.97850823|\n",
            "|         5|  804|       0.0|\n",
            "|         4|  586| 0.2756005|\n",
            "|         7|   58|   0.94311|\n",
            "|        10|   13|       1.0|\n",
            "|         2|   13|       1.0|\n",
            "|         0|   16|0.99620736|\n",
            "+----------+-----+----------+\n",
            "\n"
          ],
          "name": "stdout"
        }
      ]
    },
    {
      "cell_type": "code",
      "metadata": {
        "id": "orSNRGJRNxC_",
        "colab_type": "code",
        "colab": {}
      },
      "source": [
        "\n",
        "    # Populating scores. If you need additional columns enable this code\n",
        "predict = predict.join(anom_score, \"prediction\").select(\"timestamp\", \"Z\", \"score\")\n",
        "    # Anomaly detection based om threshold\n",
        "udf_anom = udf(lambda score: calc_anom(score), types.IntegerType())\n",
        "anomaly = predict.withColumn(\"anomaly\", udf_anom(\"score\"))\n",
        "anomaly1 = predict.where(predict[\"score\"] > 0.9999)\n",
        "\n",
        "    #Convert to csv\n",
        "pd_anom = anomaly.toPandas()\n",
        "pd_anom.to_csv('Kmeans_Lift1_preds.csv',index=False)"
      ],
      "execution_count": 0,
      "outputs": []
    },
    {
      "cell_type": "code",
      "metadata": {
        "id": "mmzW_i9HPSWV",
        "colab_type": "code",
        "outputId": "cc47182b-1ff9-4614-a2c0-60e643515803",
        "colab": {
          "base_uri": "https://localhost:8080/",
          "height": 424
        }
      },
      "source": [
        "pd_anom"
      ],
      "execution_count": 0,
      "outputs": [
        {
          "output_type": "execute_result",
          "data": {
            "text/html": [
              "<div>\n",
              "<style scoped>\n",
              "    .dataframe tbody tr th:only-of-type {\n",
              "        vertical-align: middle;\n",
              "    }\n",
              "\n",
              "    .dataframe tbody tr th {\n",
              "        vertical-align: top;\n",
              "    }\n",
              "\n",
              "    .dataframe thead th {\n",
              "        text-align: right;\n",
              "    }\n",
              "</style>\n",
              "<table border=\"1\" class=\"dataframe\">\n",
              "  <thead>\n",
              "    <tr style=\"text-align: right;\">\n",
              "      <th></th>\n",
              "      <th>timestamp</th>\n",
              "      <th>Z</th>\n",
              "      <th>score</th>\n",
              "      <th>anomaly</th>\n",
              "    </tr>\n",
              "  </thead>\n",
              "  <tbody>\n",
              "    <tr>\n",
              "      <th>0</th>\n",
              "      <td>35:27.0</td>\n",
              "      <td>0.789063</td>\n",
              "      <td>0.275600</td>\n",
              "      <td>0</td>\n",
              "    </tr>\n",
              "    <tr>\n",
              "      <th>1</th>\n",
              "      <td>35:27.0</td>\n",
              "      <td>0.785156</td>\n",
              "      <td>0.000000</td>\n",
              "      <td>0</td>\n",
              "    </tr>\n",
              "    <tr>\n",
              "      <th>2</th>\n",
              "      <td>35:27.1</td>\n",
              "      <td>0.781250</td>\n",
              "      <td>0.000000</td>\n",
              "      <td>0</td>\n",
              "    </tr>\n",
              "    <tr>\n",
              "      <th>3</th>\n",
              "      <td>35:27.1</td>\n",
              "      <td>0.785156</td>\n",
              "      <td>0.000000</td>\n",
              "      <td>0</td>\n",
              "    </tr>\n",
              "    <tr>\n",
              "      <th>4</th>\n",
              "      <td>35:27.1</td>\n",
              "      <td>0.789063</td>\n",
              "      <td>0.275600</td>\n",
              "      <td>0</td>\n",
              "    </tr>\n",
              "    <tr>\n",
              "      <th>...</th>\n",
              "      <td>...</td>\n",
              "      <td>...</td>\n",
              "      <td>...</td>\n",
              "      <td>...</td>\n",
              "    </tr>\n",
              "    <tr>\n",
              "      <th>1515</th>\n",
              "      <td>36:26.8</td>\n",
              "      <td>0.781250</td>\n",
              "      <td>0.000000</td>\n",
              "      <td>0</td>\n",
              "    </tr>\n",
              "    <tr>\n",
              "      <th>1516</th>\n",
              "      <td>36:26.8</td>\n",
              "      <td>0.804688</td>\n",
              "      <td>0.275600</td>\n",
              "      <td>0</td>\n",
              "    </tr>\n",
              "    <tr>\n",
              "      <th>1517</th>\n",
              "      <td>36:26.8</td>\n",
              "      <td>0.777344</td>\n",
              "      <td>0.000000</td>\n",
              "      <td>0</td>\n",
              "    </tr>\n",
              "    <tr>\n",
              "      <th>1518</th>\n",
              "      <td>36:26.9</td>\n",
              "      <td>0.773438</td>\n",
              "      <td>0.996207</td>\n",
              "      <td>0</td>\n",
              "    </tr>\n",
              "    <tr>\n",
              "      <th>1519</th>\n",
              "      <td>36:26.9</td>\n",
              "      <td>0.808594</td>\n",
              "      <td>0.943110</td>\n",
              "      <td>0</td>\n",
              "    </tr>\n",
              "  </tbody>\n",
              "</table>\n",
              "<p>1520 rows × 4 columns</p>\n",
              "</div>"
            ],
            "text/plain": [
              "     timestamp         Z     score  anomaly\n",
              "0      35:27.0  0.789063  0.275600        0\n",
              "1      35:27.0  0.785156  0.000000        0\n",
              "2      35:27.1  0.781250  0.000000        0\n",
              "3      35:27.1  0.785156  0.000000        0\n",
              "4      35:27.1  0.789063  0.275600        0\n",
              "...        ...       ...       ...      ...\n",
              "1515   36:26.8  0.781250  0.000000        0\n",
              "1516   36:26.8  0.804688  0.275600        0\n",
              "1517   36:26.8  0.777344  0.000000        0\n",
              "1518   36:26.9  0.773438  0.996207        0\n",
              "1519   36:26.9  0.808594  0.943110        0\n",
              "\n",
              "[1520 rows x 4 columns]"
            ]
          },
          "metadata": {
            "tags": []
          },
          "execution_count": 16
        }
      ]
    },
    {
      "cell_type": "code",
      "metadata": {
        "id": "mPK0Xau_0I7E",
        "colab_type": "code",
        "colab": {}
      },
      "source": [
        "# Use the file generated for evaluation\n",
        "reference = pd.read_csv('/content/drive/My Drive/nor_window_data.csv',header=None)"
      ],
      "execution_count": 0,
      "outputs": []
    },
    {
      "cell_type": "code",
      "metadata": {
        "id": "XlmItnyTdkwx",
        "colab_type": "code",
        "colab": {}
      },
      "source": [
        "\n",
        "reference.rename(columns={ reference.columns[0]: 'Pos',reference.columns[1]: 'Value',reference.columns[2]: 'Anomaly'}, inplace=True)"
      ],
      "execution_count": 0,
      "outputs": []
    },
    {
      "cell_type": "code",
      "metadata": {
        "id": "0AAfoZjeW62l",
        "colab_type": "code",
        "outputId": "84dca952-2c16-417e-d41b-2058af3b7522",
        "colab": {
          "base_uri": "https://localhost:8080/",
          "height": 381
        }
      },
      "source": [
        "import matplotlib.pyplot as plt\n",
        "plt.rcParams[\"figure.figsize\"] = (20,5)\n",
        "pd_anom.sort_values(by=['timestamp'],inplace=True)\n",
        "plt.plot(pd_anom['timestamp'],pd_anom['Z'],'-')\n",
        "plt.scatter(pd_anom.timestamp[pd_anom.anomaly==True], pd_anom.Z[pd_anom.anomaly==True],marker='o',c='red')\n",
        "plt.title('Kmeans')\n",
        "plt.xticks(rotation = 90)\n",
        "plt.legend();"
      ],
      "execution_count": 0,
      "outputs": [
        {
          "output_type": "stream",
          "text": [
            "No handles with labels found to put in legend.\n"
          ],
          "name": "stderr"
        },
        {
          "output_type": "display_data",
          "data": {
            "image/png": "[encoded data removed]",
            "text/plain": [
              "<Figure size 1440x360 with 1 Axes>"
            ]
          },
          "metadata": {
            "tags": [],
            "needs_background": "light"
          }
        }
      ]
    },
    {
      "cell_type": "code",
      "metadata": {
        "id": "KtnvkKQv2C4-",
        "colab_type": "code",
        "colab": {}
      },
      "source": [
        "from sklearn.metrics import confusion_matrix"
      ],
      "execution_count": 0,
      "outputs": []
    },
    {
      "cell_type": "code",
      "metadata": {
        "colab_type": "code",
        "id": "WeACKer9D-n5",
        "colab": {}
      },
      "source": [
        "y_true = reference['Anomaly']    # the true anomaly column(0/1)\n",
        "y_pred = pd_anom['anomaly']    # the predicted anomaly column"
      ],
      "execution_count": 0,
      "outputs": []
    },
    {
      "cell_type": "code",
      "metadata": {
        "colab_type": "code",
        "id": "HVzf3x0lD-9F",
        "colab": {}
      },
      "source": [
        "# Find the confusion matrix\n",
        "tn,fp,fn,tp = confusion_matrix(y_true,y_pred).ravel()"
      ],
      "execution_count": 0,
      "outputs": []
    },
    {
      "cell_type": "code",
      "metadata": {
        "id": "eTSHbi03EFBH",
        "colab_type": "code",
        "outputId": "6b22a386-c903-47aa-b745-cd464573886f",
        "colab": {
          "base_uri": "https://localhost:8080/",
          "height": 86
        }
      },
      "source": [
        "print(\"True negatives :\",tn)\n",
        "print(\"False positives :\",fp)\n",
        "print(\"True positives :\",fn)\n",
        "print(\"False negatives :\",tp)"
      ],
      "execution_count": 0,
      "outputs": [
        {
          "output_type": "stream",
          "text": [
            "True negatives : 1456\n",
            "False positives : 15\n",
            "True positives : 38\n",
            "False negatives : 11\n"
          ],
          "name": "stdout"
        }
      ]
    },
    {
      "cell_type": "code",
      "metadata": {
        "id": "ztO63m7x2U2G",
        "colab_type": "code",
        "colab": {}
      },
      "source": [
        "# Calculate precision and recall\n",
        "\n",
        "precision = tp/(tp + fp)\n",
        "recall = tp/(tp + fn) "
      ],
      "execution_count": 0,
      "outputs": []
    },
    {
      "cell_type": "code",
      "metadata": {
        "id": "Sk3IG6PaDxrt",
        "colab_type": "code",
        "outputId": "05c2e865-ac3f-4223-8968-57af8609de4f",
        "colab": {
          "base_uri": "https://localhost:8080/",
          "height": 34
        }
      },
      "source": [
        "precision"
      ],
      "execution_count": 0,
      "outputs": [
        {
          "output_type": "execute_result",
          "data": {
            "text/plain": [
              "0.4230769230769231"
            ]
          },
          "metadata": {
            "tags": []
          },
          "execution_count": 29
        }
      ]
    },
    {
      "cell_type": "code",
      "metadata": {
        "id": "gjoXigqcDzjA",
        "colab_type": "code",
        "outputId": "b8f13a6d-9415-4146-a68c-9ebb9a3c1674",
        "colab": {
          "base_uri": "https://localhost:8080/",
          "height": 34
        }
      },
      "source": [
        "recall"
      ],
      "execution_count": 0,
      "outputs": [
        {
          "output_type": "execute_result",
          "data": {
            "text/plain": [
              "0.22448979591836735"
            ]
          },
          "metadata": {
            "tags": []
          },
          "execution_count": 30
        }
      ]
    },
    {
      "cell_type": "code",
      "metadata": {
        "id": "pIVzZilm31W7",
        "colab_type": "code",
        "colab": {}
      },
      "source": [
        "f1_score = (2*(precision * recall))/(precision + recall)"
      ],
      "execution_count": 0,
      "outputs": []
    },
    {
      "cell_type": "code",
      "metadata": {
        "id": "sz6-r2t26SWC",
        "colab_type": "code",
        "outputId": "9293d83a-25fa-47be-fb64-48f680b63a45",
        "colab": {
          "base_uri": "https://localhost:8080/",
          "height": 34
        }
      },
      "source": [
        "f1_score"
      ],
      "execution_count": 0,
      "outputs": [
        {
          "output_type": "execute_result",
          "data": {
            "text/plain": [
              "0.29333333333333333"
            ]
          },
          "metadata": {
            "tags": []
          },
          "execution_count": 32
        }
      ]
    },
    {
      "cell_type": "code",
      "metadata": {
        "id": "zvHG3HJ_Ults",
        "colab_type": "code",
        "colab": {}
      },
      "source": [
        ""
      ],
      "execution_count": 0,
      "outputs": []
    }
  ]
}