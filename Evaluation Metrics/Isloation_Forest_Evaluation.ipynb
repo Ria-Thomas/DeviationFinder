{
  "nbformat": 4,
  "nbformat_minor": 0,
  "metadata": {
    "colab": {
      "name": "Isloation_Forest_Evaluation.ipynb",
      "provenance": [],
      "collapsed_sections": []
    },
    "kernelspec": {
      "name": "python3",
      "display_name": "Python 3"
    }
  },
  "cells": [
    {
      "cell_type": "code",
      "metadata": {
        "id": "sDbHA-IAk4EW",
        "colab_type": "code",
        "colab": {}
      },
      "source": [
        "##Author : Varnnitha Venugopal\n",
        "##Master's in Computer Science with Big Data \n",
        "##Simon Fraser University, Burnaby\n",
        "##Created on : April 12 2020"
      ],
      "execution_count": 0,
      "outputs": []
    },
    {
      "cell_type": "code",
      "metadata": {
        "id": "bR-ZNfNVJGWJ",
        "colab_type": "code",
        "colab": {}
      },
      "source": [
        "import numpy as np\n",
        "import pandas as pd\n"
      ],
      "execution_count": 0,
      "outputs": []
    },
    {
      "cell_type": "code",
      "metadata": {
        "scrolled": false,
        "id": "ZjKN9CGUmB9E",
        "colab_type": "code",
        "outputId": "b233bbf9-72b2-4aae-9875-6e04b0c37bf6",
        "colab": {}
      },
      "source": [
        "#Isolation Forest\n",
        "# spark-submit IForest_Lift1.py /home/techsafebc/EDS_1.csv.gz\n",
        "#packages\n",
        "from pyspark.sql import SparkSession, functions, types\n",
        "from pyspark.ml.feature import StandardScaler\n",
        "from pyspark.ml.feature import VectorAssembler\n",
        "from pyspark.sql.functions import col, mean, stddev,stddev_pop,avg,max,to_timestamp,udf,desc\n",
        "from pyspark.sql import Window\n",
        "\n",
        "from pyspark import SparkConf\n",
        "from pyspark_iforest.ml.iforest import *\n",
        "from pyspark.ml.linalg import Vectors\n",
        "\n",
        "# Configure Spark\n",
        "conf = SparkConf()\n",
        "conf.set('spark.jars', '/Users/varnnithavinay/spark-iforest/target/spark-iforest-2.4.0.jar')\n",
        "spark = SparkSession \\\n",
        "  .builder \\\n",
        "  .appName(\"Iforest preprocessing\") \\\n",
        "  .config(\"spark.memory.fraction\", 0.8) \\\n",
        "  .config(\"spark.executor.memory\", \"14g\") \\\n",
        "  .config(\"spark.driver.memory\", \"12g\")\\\n",
        "  .config(\"spark.sql.shuffle.partitions\" , \"800\") \\\n",
        "  .getOrCreate()\n",
        "spark.sparkContext.setLogLevel('WARN')\n",
        "assert spark.version >= '2.4'  # make sure we have Spark 2.4+\n",
        "\n",
        "#the model\n",
        "iforest_path = \"iforest\"\n",
        "model_path =  \"iforest_model\"\n",
        "\n",
        "# UDF for converting column type from vector to double type\n",
        "unlist = udf(lambda x: round(float(list(x)[0]),6), types.DoubleType())\n",
        "\n",
        "##OTHER FUNCTIONS\n",
        "\n",
        "# Schema Set\n",
        "# Defining the schema for tmax datasets\n",
        "def sensor_schema():\n",
        "    sen_schema = types.StructType([\n",
        "        types.StructField('timestamp', types.StringType()),\n",
        "        types.StructField('value', types.DoubleType()),\n",
        "        types.StructField('anomaly', types.DoubleType()),\n",
        "        #types.StructField('Z', types.DoubleType()),\n",
        "    ])\n",
        "    return sen_schema\n",
        "     \n",
        "## Standard Scaler - Z normalization\n",
        "def z_norm(temp):\n",
        "    assembler = VectorAssembler(\n",
        "    inputCols=[\"Z\"],\n",
        "    outputCol=\"Zvector\")\n",
        "    tempdata = assembler.transform(temp)\n",
        "    scaler = StandardScaler(inputCol=\"Zvector\", outputCol=\"Zscale\",withMean=True, withStd=True)\n",
        "    scalerModel = scaler.fit(tempdata)\n",
        "    scaledData = scalerModel.transform(tempdata).withColumn(\"Zscale\", unlist(\"Zscale\")).drop(\"Zvector\").cache()\n",
        "    scaledData.createOrReplaceTempView(\"scaledData\")\n",
        "    return scaledData\n",
        "\n",
        "def movingAverage(scaledData):\n",
        "    movAvg = scaledData.withColumn(\"movingAverage\", avg(scaledData[\"Zscale\"])\n",
        "             .over( Window.partitionBy(scaledData[\"timestamp1\"]).rowsBetween(-3,3))).cache()\n",
        "    return movAvg\n",
        "\n",
        "########################################################\n",
        "\n",
        "def iforest_prediction(features):\n",
        "\n",
        "    # Load a fitted model from a model path\n",
        "    loaded_model = IForestModel.load(model_path)\n",
        "\n",
        "    # The loaded model has no summary info\n",
        "    print(loaded_model.hasSummary)\n",
        "\n",
        "    # Use the loaded model to predict a new data frame\n",
        "    \n",
        "    return loaded_model.transform(features)\n",
        "\n",
        "\n",
        "########################################################\n",
        "\n",
        "\n",
        "#Spark read of data\n",
        "filename ='nor_window_data.csv'\n",
        "sens_schema = sensor_schema()\n",
        "temp = spark.read.csv(filename, schema =sens_schema ).repartition(100)\n",
        "temp.createOrReplaceTempView(\"temp\")\n",
        "#Initial Filter to obtain useful Data. Other ranges are useless\n",
        "temp = spark.sql(\"select timestamp, Value as Z from temp \") \n",
        "#temp = spark.sql(\"select Pos as timestamp, Value as Z from temp where timestamp between '2018-07-09 12:00:00' and '2018-08-09 12:00:00'\") \n",
        "#temp = spark.sql(\"select Pos as timestamp, cast(Value as decimal(16,6))as Z from temp\") \n",
        "temp.show()\n",
        "scaledData  = z_norm(temp)\n",
        "    \n",
        "scaledData = scaledData.withColumn(\"timestamp1\", to_timestamp(\"timestamp\", 'yyyy-MM-dd HH:mm:ss')).cache()\n",
        "    \n",
        "movAvg = movingAverage(scaledData)\n",
        "movAvg.createOrReplaceTempView(\"movAvg\")\n",
        "\n",
        "#Select only rounded values\n",
        "   \n",
        "scaledNorm =  spark.sql('SELECT timestamp,Z,Zscale,round(movingAverage,0) as movingAverage_round from movAvg').cache()\n",
        "scaledNorm.createOrReplaceTempView(\"scaledNorm\") \n",
        "print(\"Scaled Data\\n\")\n",
        "scaledNorm.show()\n",
        "#specify the metric column to be modelled\n",
        "data= spark.sql(\"select cast(movingAverage_round as decimal)  as  movingAverage_round from scaledNorm\").cache()\n",
        "data.createOrReplaceTempView(\"data\") \n",
        "\n",
        "features = (VectorAssembler(inputCols=data.columns, outputCol=\"features\").transform(data).select(\"features\"))\n",
        "\n",
        "features.show()\n",
        "print(features.count())\n",
        "features.createOrReplaceTempView(\"features\")\n",
        "    \n",
        "    \n",
        "#Iforest model\n",
        "model_val = iforest_prediction(features).cache()\n",
        "\n",
        "model_val.createOrReplaceTempView(\"model_val\") \n",
        "model_val.show()\n",
        "print(\"#(1.0 means anomalous/ outlier, 0.0 normal/ inlier)\")\n",
        "print(\"Now in main\\n\")\n",
        "count_anomalies= spark.sql('select prediction,count(prediction) from model_val group by prediction')\n",
        "count_anomalies.show()\n",
        "    \n",
        "    \n",
        "to_array = functions.udf(lambda v: v.toArray().tolist(), types.ArrayType(types.FloatType()))\n",
        "test_df = model_val.withColumn('MvngAvg_feature', to_array('features'))\n",
        "test_df = test_df.withColumn(\"movingAverage_round\", test_df[\"MvngAvg_feature\"].getItem(0))\n",
        "test_df.createOrReplaceTempView(\"test_df\")  \n",
        "    \n",
        "test_df = spark.sql('select movingAverage_round, prediction, anomalyScore from test_df').cache()\n",
        "test_df.createOrReplaceTempView(\"test_df\") \n",
        "test_df.show()\n",
        "#adding timestamp\n",
        "from pyspark.sql.window import Window\n",
        "from pyspark.sql.functions import row_number\n",
        "w = Window().orderBy(\"movingAverage_round\")\n",
        "\n",
        "df11 =  scaledNorm.withColumn(\"columnindex\", row_number().over(w))\n",
        "df22 =  test_df.withColumn(\"columnindex\", row_number().over(w))\n",
        "\n",
        "df22=df22.withColumnRenamed(\"movingAverage_round\", \"movingAverage_test\")\n",
        "newDF = df11.join(df22, df11.columnindex == df22.columnindex, 'inner').drop(df22.columnindex).cache()\n",
        "newDF.createOrReplaceTempView(\"newDF\")\n",
        "test_df= spark.sql('select STRING(timestamp)as Pos,Z as Value,prediction as Anomaly from newDF').cache()\n",
        "test_df.coalesce(1).write.option(\"header\",\"true\").csv(\"prediction_isolationforest_lift1\")\n",
        "print(test_df.printSchema())\n",
        "test_df.show(20,False)"
      ],
      "execution_count": 0,
      "outputs": [
        {
          "output_type": "stream",
          "text": [
            "+---------+--------+\n",
            "|timestamp|       Z|\n",
            "+---------+--------+\n",
            "|  36:05.8|0.761719|\n",
            "|  35:42.8|0.789063|\n",
            "|  35:29.8|0.789063|\n",
            "|  35:37.0|0.785156|\n",
            "|  36:13.6|0.761719|\n",
            "|  36:14.0| 0.78125|\n",
            "|  35:45.4|0.789063|\n",
            "|  35:42.3|0.789063|\n",
            "|  35:46.5|0.789063|\n",
            "|  36:24.8|0.785156|\n",
            "|  36:19.1|0.785156|\n",
            "|  36:23.1| 0.78125|\n",
            "|  36:01.7|0.789063|\n",
            "|  35:54.8|0.789063|\n",
            "|  35:59.5|0.785156|\n",
            "|  35:42.3|0.785156|\n",
            "|  35:59.1|0.789063|\n",
            "|  35:28.3|0.785156|\n",
            "|  36:12.8|0.789063|\n",
            "|  36:23.0|0.789063|\n",
            "+---------+--------+\n",
            "only showing top 20 rows\n",
            "\n",
            "Scaled Data\n",
            "\n",
            "+---------+--------+---------+-------------------+\n",
            "|timestamp|       Z|   Zscale|movingAverage_round|\n",
            "+---------+--------+---------+-------------------+\n",
            "|  35:39.3|0.785156|-0.161642|                0.0|\n",
            "|  35:38.2|0.785156|-0.161642|               -1.0|\n",
            "|  36:21.0|0.789063| 0.065031|                0.0|\n",
            "|  35:54.3|0.785156|-0.161642|               -1.0|\n",
            "|  36:13.5|0.746094|-2.427905|               -1.0|\n",
            "|  35:49.5|0.789063| 0.065031|               -1.0|\n",
            "|  36:13.8|0.746094|-2.427905|               -1.0|\n",
            "|  36:22.4|0.785156|-0.161642|               -1.0|\n",
            "|  35:32.5|0.777344|-0.614871|               -1.0|\n",
            "|  36:16.9|0.789063| 0.065031|               -1.0|\n",
            "|  36:22.5|0.789063| 0.065031|               -1.0|\n",
            "|  36:04.9|0.675781|-6.507258|               -1.0|\n",
            "|  36:03.4|0.785156|-0.161642|               -1.0|\n",
            "|  35:28.3|0.785156|-0.161642|               -1.0|\n",
            "|  36:08.3|0.792969| 0.291645|               -1.0|\n",
            "|  35:30.6| 0.78125|-0.388257|                0.0|\n",
            "|  35:47.7|0.785156|-0.161642|                0.0|\n",
            "|  35:53.9| 0.78125|-0.388257|                0.0|\n",
            "|  35:44.5|0.785156|-0.161642|                0.0|\n",
            "|  35:43.7|0.785156|-0.161642|                0.0|\n",
            "+---------+--------+---------+-------------------+\n",
            "only showing top 20 rows\n",
            "\n",
            "+--------+\n",
            "|features|\n",
            "+--------+\n",
            "|   [0.0]|\n",
            "|  [-1.0]|\n",
            "|   [0.0]|\n",
            "|  [-1.0]|\n",
            "|  [-1.0]|\n",
            "|  [-1.0]|\n",
            "|  [-1.0]|\n",
            "|  [-1.0]|\n",
            "|  [-1.0]|\n",
            "|  [-1.0]|\n",
            "|  [-1.0]|\n",
            "|  [-1.0]|\n",
            "|  [-1.0]|\n",
            "|  [-1.0]|\n",
            "|  [-1.0]|\n",
            "|   [0.0]|\n",
            "|   [0.0]|\n",
            "|   [0.0]|\n",
            "|   [0.0]|\n",
            "|   [0.0]|\n",
            "+--------+\n",
            "only showing top 20 rows\n",
            "\n",
            "1520\n",
            "False\n",
            "+--------+-------------------+----------+\n",
            "|features|       anomalyScore|prediction|\n",
            "+--------+-------------------+----------+\n",
            "|   [0.0]|0.38597945497045566|       0.0|\n",
            "|  [-1.0]| 0.4159045134321962|       1.0|\n",
            "|   [0.0]|0.38597945497045566|       0.0|\n",
            "|  [-1.0]| 0.4159045134321962|       1.0|\n",
            "|  [-1.0]| 0.4159045134321962|       1.0|\n",
            "|  [-1.0]| 0.4159045134321962|       1.0|\n",
            "|  [-1.0]| 0.4159045134321962|       1.0|\n",
            "|  [-1.0]| 0.4159045134321962|       1.0|\n",
            "|  [-1.0]| 0.4159045134321962|       1.0|\n",
            "|  [-1.0]| 0.4159045134321962|       1.0|\n",
            "|  [-1.0]| 0.4159045134321962|       1.0|\n",
            "|  [-1.0]| 0.4159045134321962|       1.0|\n",
            "|  [-1.0]| 0.4159045134321962|       1.0|\n",
            "|  [-1.0]| 0.4159045134321962|       1.0|\n",
            "|  [-1.0]| 0.4159045134321962|       1.0|\n",
            "|   [0.0]|0.38597945497045566|       0.0|\n",
            "|   [0.0]|0.38597945497045566|       0.0|\n",
            "|   [0.0]|0.38597945497045566|       0.0|\n",
            "|   [0.0]|0.38597945497045566|       0.0|\n",
            "|   [0.0]|0.38597945497045566|       0.0|\n",
            "+--------+-------------------+----------+\n",
            "only showing top 20 rows\n",
            "\n",
            "#(1.0 means anomalous/ outlier, 0.0 normal/ inlier)\n",
            "Now in main\n",
            "\n",
            "+----------+-----------------+\n",
            "|prediction|count(prediction)|\n",
            "+----------+-----------------+\n",
            "|       0.0|             1281|\n",
            "|       1.0|              239|\n",
            "+----------+-----------------+\n",
            "\n",
            "+-------------------+----------+-------------------+\n",
            "|movingAverage_round|prediction|       anomalyScore|\n",
            "+-------------------+----------+-------------------+\n",
            "|                0.0|       0.0|0.38597945497045566|\n",
            "|               -1.0|       1.0| 0.4159045134321962|\n",
            "|                0.0|       0.0|0.38597945497045566|\n",
            "|               -1.0|       1.0| 0.4159045134321962|\n",
            "|               -1.0|       1.0| 0.4159045134321962|\n",
            "|               -1.0|       1.0| 0.4159045134321962|\n",
            "|               -1.0|       1.0| 0.4159045134321962|\n",
            "|               -1.0|       1.0| 0.4159045134321962|\n",
            "|               -1.0|       1.0| 0.4159045134321962|\n",
            "|               -1.0|       1.0| 0.4159045134321962|\n",
            "|               -1.0|       1.0| 0.4159045134321962|\n",
            "|               -1.0|       1.0| 0.4159045134321962|\n",
            "|               -1.0|       1.0| 0.4159045134321962|\n",
            "|               -1.0|       1.0| 0.4159045134321962|\n",
            "|               -1.0|       1.0| 0.4159045134321962|\n",
            "|                0.0|       0.0|0.38597945497045566|\n",
            "|                0.0|       0.0|0.38597945497045566|\n",
            "|                0.0|       0.0|0.38597945497045566|\n",
            "|                0.0|       0.0|0.38597945497045566|\n",
            "|                0.0|       0.0|0.38597945497045566|\n",
            "+-------------------+----------+-------------------+\n",
            "only showing top 20 rows\n",
            "\n",
            "root\n",
            " |-- Pos: string (nullable = true)\n",
            " |-- Value: double (nullable = true)\n",
            " |-- Anomaly: double (nullable = true)\n",
            "\n",
            "None\n",
            "+-------+--------+-------+\n",
            "|Pos    |Value   |Anomaly|\n",
            "+-------+--------+-------+\n",
            "|35:38.2|0.785156|1.0    |\n",
            "|35:54.3|0.785156|1.0    |\n",
            "|36:13.5|0.746094|1.0    |\n",
            "|35:49.5|0.789063|1.0    |\n",
            "|36:13.8|0.746094|1.0    |\n",
            "|36:22.4|0.785156|1.0    |\n",
            "|35:32.5|0.777344|1.0    |\n",
            "|36:16.9|0.789063|1.0    |\n",
            "|36:22.5|0.789063|1.0    |\n",
            "|36:04.9|0.675781|1.0    |\n",
            "|36:03.4|0.785156|1.0    |\n",
            "|35:28.3|0.785156|1.0    |\n",
            "|36:08.3|0.792969|1.0    |\n",
            "|35:44.5|0.785156|1.0    |\n",
            "|35:43.7|0.785156|1.0    |\n",
            "|36:04.7|0.761719|1.0    |\n",
            "|36:04.8|0.753906|1.0    |\n",
            "|35:41.1|0.78125 |1.0    |\n",
            "|35:52.7|0.785156|1.0    |\n",
            "|36:03.0|0.792969|1.0    |\n",
            "+-------+--------+-------+\n",
            "only showing top 20 rows\n",
            "\n"
          ],
          "name": "stdout"
        }
      ]
    },
    {
      "cell_type": "code",
      "metadata": {
        "id": "bqzZ5CHh36jG",
        "colab_type": "code",
        "outputId": "87440bde-47f5-4583-fbdf-d694fbc548bc",
        "colab": {
          "base_uri": "https://localhost:8080/",
          "height": 424
        }
      },
      "source": [
        "# File generated after\n",
        "pd_anom = pd.read_csv('iforest_prediction.csv')\n",
        "pd_anom"
      ],
      "execution_count": 0,
      "outputs": [
        {
          "output_type": "execute_result",
          "data": {
            "text/html": [
              "<div>\n",
              "<style scoped>\n",
              "    .dataframe tbody tr th:only-of-type {\n",
              "        vertical-align: middle;\n",
              "    }\n",
              "\n",
              "    .dataframe tbody tr th {\n",
              "        vertical-align: top;\n",
              "    }\n",
              "\n",
              "    .dataframe thead th {\n",
              "        text-align: right;\n",
              "    }\n",
              "</style>\n",
              "<table border=\"1\" class=\"dataframe\">\n",
              "  <thead>\n",
              "    <tr style=\"text-align: right;\">\n",
              "      <th></th>\n",
              "      <th>Pos</th>\n",
              "      <th>Value</th>\n",
              "      <th>Anomaly</th>\n",
              "    </tr>\n",
              "  </thead>\n",
              "  <tbody>\n",
              "    <tr>\n",
              "      <th>0</th>\n",
              "      <td>35:38.2</td>\n",
              "      <td>0.785156</td>\n",
              "      <td>1.0</td>\n",
              "    </tr>\n",
              "    <tr>\n",
              "      <th>1</th>\n",
              "      <td>35:54.3</td>\n",
              "      <td>0.785156</td>\n",
              "      <td>1.0</td>\n",
              "    </tr>\n",
              "    <tr>\n",
              "      <th>2</th>\n",
              "      <td>36:13.5</td>\n",
              "      <td>0.746094</td>\n",
              "      <td>1.0</td>\n",
              "    </tr>\n",
              "    <tr>\n",
              "      <th>3</th>\n",
              "      <td>35:49.5</td>\n",
              "      <td>0.789063</td>\n",
              "      <td>1.0</td>\n",
              "    </tr>\n",
              "    <tr>\n",
              "      <th>4</th>\n",
              "      <td>36:13.8</td>\n",
              "      <td>0.746094</td>\n",
              "      <td>1.0</td>\n",
              "    </tr>\n",
              "    <tr>\n",
              "      <th>...</th>\n",
              "      <td>...</td>\n",
              "      <td>...</td>\n",
              "      <td>...</td>\n",
              "    </tr>\n",
              "    <tr>\n",
              "      <th>1515</th>\n",
              "      <td>36:04.7</td>\n",
              "      <td>0.773438</td>\n",
              "      <td>1.0</td>\n",
              "    </tr>\n",
              "    <tr>\n",
              "      <th>1516</th>\n",
              "      <td>36:13.4</td>\n",
              "      <td>0.855469</td>\n",
              "      <td>1.0</td>\n",
              "    </tr>\n",
              "    <tr>\n",
              "      <th>1517</th>\n",
              "      <td>36:15.2</td>\n",
              "      <td>0.789063</td>\n",
              "      <td>1.0</td>\n",
              "    </tr>\n",
              "    <tr>\n",
              "      <th>1518</th>\n",
              "      <td>36:23.8</td>\n",
              "      <td>0.781250</td>\n",
              "      <td>1.0</td>\n",
              "    </tr>\n",
              "    <tr>\n",
              "      <th>1519</th>\n",
              "      <td>35:42.9</td>\n",
              "      <td>0.789063</td>\n",
              "      <td>1.0</td>\n",
              "    </tr>\n",
              "  </tbody>\n",
              "</table>\n",
              "<p>1520 rows × 3 columns</p>\n",
              "</div>"
            ],
            "text/plain": [
              "          Pos     Value  Anomaly\n",
              "0     35:38.2  0.785156      1.0\n",
              "1     35:54.3  0.785156      1.0\n",
              "2     36:13.5  0.746094      1.0\n",
              "3     35:49.5  0.789063      1.0\n",
              "4     36:13.8  0.746094      1.0\n",
              "...       ...       ...      ...\n",
              "1515  36:04.7  0.773438      1.0\n",
              "1516  36:13.4  0.855469      1.0\n",
              "1517  36:15.2  0.789063      1.0\n",
              "1518  36:23.8  0.781250      1.0\n",
              "1519  35:42.9  0.789063      1.0\n",
              "\n",
              "[1520 rows x 3 columns]"
            ]
          },
          "metadata": {
            "tags": []
          },
          "execution_count": 3
        }
      ]
    },
    {
      "cell_type": "code",
      "metadata": {
        "id": "mPK0Xau_0I7E",
        "colab_type": "code",
        "outputId": "d4cf3ac7-746e-442f-e336-ee49bce23b1e",
        "colab": {
          "base_uri": "https://localhost:8080/",
          "height": 424
        }
      },
      "source": [
        "# Use the file generated for evaluation\n",
        "reference = pd.read_csv('/content/drive/My Drive/nor_window_data.csv',header=None)\n",
        "reference.rename(columns={ reference.columns[0]: 'Pos',reference.columns[1]: 'Value',reference.columns[2]: 'Anomaly'}, inplace=True)\n",
        "reference"
      ],
      "execution_count": 0,
      "outputs": [
        {
          "output_type": "execute_result",
          "data": {
            "text/html": [
              "<div>\n",
              "<style scoped>\n",
              "    .dataframe tbody tr th:only-of-type {\n",
              "        vertical-align: middle;\n",
              "    }\n",
              "\n",
              "    .dataframe tbody tr th {\n",
              "        vertical-align: top;\n",
              "    }\n",
              "\n",
              "    .dataframe thead th {\n",
              "        text-align: right;\n",
              "    }\n",
              "</style>\n",
              "<table border=\"1\" class=\"dataframe\">\n",
              "  <thead>\n",
              "    <tr style=\"text-align: right;\">\n",
              "      <th></th>\n",
              "      <th>Pos</th>\n",
              "      <th>Value</th>\n",
              "      <th>Anomaly</th>\n",
              "    </tr>\n",
              "  </thead>\n",
              "  <tbody>\n",
              "    <tr>\n",
              "      <th>0</th>\n",
              "      <td>35:27.0</td>\n",
              "      <td>0.789063</td>\n",
              "      <td>0</td>\n",
              "    </tr>\n",
              "    <tr>\n",
              "      <th>1</th>\n",
              "      <td>35:27.0</td>\n",
              "      <td>0.785156</td>\n",
              "      <td>0</td>\n",
              "    </tr>\n",
              "    <tr>\n",
              "      <th>2</th>\n",
              "      <td>35:27.1</td>\n",
              "      <td>0.781250</td>\n",
              "      <td>0</td>\n",
              "    </tr>\n",
              "    <tr>\n",
              "      <th>3</th>\n",
              "      <td>35:27.1</td>\n",
              "      <td>0.785156</td>\n",
              "      <td>0</td>\n",
              "    </tr>\n",
              "    <tr>\n",
              "      <th>4</th>\n",
              "      <td>35:27.1</td>\n",
              "      <td>0.789063</td>\n",
              "      <td>0</td>\n",
              "    </tr>\n",
              "    <tr>\n",
              "      <th>...</th>\n",
              "      <td>...</td>\n",
              "      <td>...</td>\n",
              "      <td>...</td>\n",
              "    </tr>\n",
              "    <tr>\n",
              "      <th>1515</th>\n",
              "      <td>36:26.8</td>\n",
              "      <td>0.781250</td>\n",
              "      <td>0</td>\n",
              "    </tr>\n",
              "    <tr>\n",
              "      <th>1516</th>\n",
              "      <td>36:26.8</td>\n",
              "      <td>0.804688</td>\n",
              "      <td>0</td>\n",
              "    </tr>\n",
              "    <tr>\n",
              "      <th>1517</th>\n",
              "      <td>36:26.8</td>\n",
              "      <td>0.777344</td>\n",
              "      <td>0</td>\n",
              "    </tr>\n",
              "    <tr>\n",
              "      <th>1518</th>\n",
              "      <td>36:26.9</td>\n",
              "      <td>0.773438</td>\n",
              "      <td>0</td>\n",
              "    </tr>\n",
              "    <tr>\n",
              "      <th>1519</th>\n",
              "      <td>36:26.9</td>\n",
              "      <td>0.808594</td>\n",
              "      <td>0</td>\n",
              "    </tr>\n",
              "  </tbody>\n",
              "</table>\n",
              "<p>1520 rows × 3 columns</p>\n",
              "</div>"
            ],
            "text/plain": [
              "          Pos     Value  Anomaly\n",
              "0     35:27.0  0.789063        0\n",
              "1     35:27.0  0.785156        0\n",
              "2     35:27.1  0.781250        0\n",
              "3     35:27.1  0.785156        0\n",
              "4     35:27.1  0.789063        0\n",
              "...       ...       ...      ...\n",
              "1515  36:26.8  0.781250        0\n",
              "1516  36:26.8  0.804688        0\n",
              "1517  36:26.8  0.777344        0\n",
              "1518  36:26.9  0.773438        0\n",
              "1519  36:26.9  0.808594        0\n",
              "\n",
              "[1520 rows x 3 columns]"
            ]
          },
          "metadata": {
            "tags": []
          },
          "execution_count": 4
        }
      ]
    },
    {
      "cell_type": "code",
      "metadata": {
        "id": "0AAfoZjeW62l",
        "colab_type": "code",
        "outputId": "777fbd01-e2d6-403d-ac0d-676bf225b81d",
        "colab": {
          "base_uri": "https://localhost:8080/",
          "height": 381
        }
      },
      "source": [
        "import matplotlib.pyplot as plt\n",
        "plt.rcParams[\"figure.figsize\"] = (20,5)\n",
        "pd_anom.sort_values(by=['Pos'],inplace=True)\n",
        "plt.plot(pd_anom['Pos'],pd_anom['Value'],'-')\n",
        "plt.scatter(pd_anom.Pos[pd_anom.Anomaly==True], pd_anom.Value[pd_anom.Anomaly==True],marker='o',c='red')\n",
        "plt.title('Isolation Forest')\n",
        "plt.xticks(rotation = 90)\n",
        "plt.legend();"
      ],
      "execution_count": 0,
      "outputs": [
        {
          "output_type": "stream",
          "text": [
            "No handles with labels found to put in legend.\n"
          ],
          "name": "stderr"
        },
        {
          "output_type": "display_data",
          "data": {
            "image/png": "[encoded data removed]",
            "text/plain": [
              "<Figure size 1440x360 with 1 Axes>"
            ]
          },
          "metadata": {
            "tags": [],
            "needs_background": "light"
          }
        }
      ]
    },
    {
      "cell_type": "code",
      "metadata": {
        "id": "KtnvkKQv2C4-",
        "colab_type": "code",
        "colab": {}
      },
      "source": [
        "from sklearn.metrics import confusion_matrix"
      ],
      "execution_count": 0,
      "outputs": []
    },
    {
      "cell_type": "code",
      "metadata": {
        "colab_type": "code",
        "id": "WeACKer9D-n5",
        "colab": {}
      },
      "source": [
        "y_true = reference['Anomaly']    # the true anomaly column(0/1)\n",
        "y_pred = pd_anom['Anomaly']    # the predicted anomaly column"
      ],
      "execution_count": 0,
      "outputs": []
    },
    {
      "cell_type": "code",
      "metadata": {
        "colab_type": "code",
        "id": "HVzf3x0lD-9F",
        "colab": {}
      },
      "source": [
        "# Find the confusion matrix\n",
        "tn,fp,fn,tp = confusion_matrix(y_true,y_pred).ravel()"
      ],
      "execution_count": 0,
      "outputs": []
    },
    {
      "cell_type": "code",
      "metadata": {
        "id": "eTSHbi03EFBH",
        "colab_type": "code",
        "outputId": "e635bc04-3ea5-4ac3-c568-26382e138926",
        "colab": {
          "base_uri": "https://localhost:8080/",
          "height": 86
        }
      },
      "source": [
        "print(\"True negatives :\",tn)\n",
        "print(\"False positives :\",fp)\n",
        "print(\"True positives :\",fn)\n",
        "print(\"False negatives :\",tp)"
      ],
      "execution_count": 0,
      "outputs": [
        {
          "output_type": "stream",
          "text": [
            "True negatives : 1238\n",
            "False positives : 233\n",
            "True positives : 43\n",
            "False negatives : 6\n"
          ],
          "name": "stdout"
        }
      ]
    },
    {
      "cell_type": "code",
      "metadata": {
        "id": "ztO63m7x2U2G",
        "colab_type": "code",
        "colab": {}
      },
      "source": [
        "# Calculate precision and recall\n",
        "\n",
        "precision = tp/(tp + fp)\n",
        "recall = tp/(tp + fn) "
      ],
      "execution_count": 0,
      "outputs": []
    },
    {
      "cell_type": "code",
      "metadata": {
        "id": "Sk3IG6PaDxrt",
        "colab_type": "code",
        "outputId": "7c62b8ea-4ea1-46f5-e17e-31b370045739",
        "colab": {
          "base_uri": "https://localhost:8080/",
          "height": 34
        }
      },
      "source": [
        "precision"
      ],
      "execution_count": 0,
      "outputs": [
        {
          "output_type": "execute_result",
          "data": {
            "text/plain": [
              "0.02510460251046025"
            ]
          },
          "metadata": {
            "tags": []
          },
          "execution_count": 10
        }
      ]
    },
    {
      "cell_type": "code",
      "metadata": {
        "id": "gjoXigqcDzjA",
        "colab_type": "code",
        "outputId": "74421c7c-79d7-435c-b4e9-e400cf4036f8",
        "colab": {
          "base_uri": "https://localhost:8080/",
          "height": 34
        }
      },
      "source": [
        "recall"
      ],
      "execution_count": 0,
      "outputs": [
        {
          "output_type": "execute_result",
          "data": {
            "text/plain": [
              "0.12244897959183673"
            ]
          },
          "metadata": {
            "tags": []
          },
          "execution_count": 11
        }
      ]
    },
    {
      "cell_type": "code",
      "metadata": {
        "id": "pIVzZilm31W7",
        "colab_type": "code",
        "colab": {}
      },
      "source": [
        "f1_score = (2*(precision * recall))/(precision + recall)"
      ],
      "execution_count": 0,
      "outputs": []
    },
    {
      "cell_type": "code",
      "metadata": {
        "id": "sz6-r2t26SWC",
        "colab_type": "code",
        "outputId": "ca76062c-66f4-4d9a-a6e1-f5f8bed8f56d",
        "colab": {
          "base_uri": "https://localhost:8080/",
          "height": 34
        }
      },
      "source": [
        "f1_score"
      ],
      "execution_count": 0,
      "outputs": [
        {
          "output_type": "execute_result",
          "data": {
            "text/plain": [
              "0.09615384615384616"
            ]
          },
          "metadata": {
            "tags": []
          },
          "execution_count": 116
        }
      ]
    }
  ]
}