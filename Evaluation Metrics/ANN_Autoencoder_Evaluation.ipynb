{
  "nbformat": 4,
  "nbformat_minor": 0,
  "metadata": {
    "kernelspec": {
      "display_name": "Python 3",
      "language": "python",
      "name": "python3"
    },
    "language_info": {
      "codemirror_mode": {
        "name": "ipython",
        "version": 3
      },
      "file_extension": ".py",
      "mimetype": "text/x-python",
      "name": "python",
      "nbconvert_exporter": "python",
      "pygments_lexer": "ipython3",
      "version": "3.7.6"
    },
    "colab": {
      "name": "ANN_Autoencoder_Evaluation.ipynb",
      "provenance": []
    }
  },
  "cells": [
    {
      "cell_type": "code",
      "metadata": {
        "id": "Z2aMCtz_kqHZ",
        "colab_type": "code",
        "colab": {}
      },
      "source": [
        "##Author Keerthi Ningegowda\n",
        "##Master's in Computer Science with Big Data concentration\n",
        "##Simon Fraser University, Burnaby\n",
        "##Created on : April 13 2020"
      ],
      "execution_count": 0,
      "outputs": []
    },
    {
      "cell_type": "code",
      "metadata": {
        "id": "jWa75vgjkqHm",
        "colab_type": "code",
        "colab": {},
        "outputId": "cd681827-2254-4bab-e24e-f5997dcd879c"
      },
      "source": [
        "##Importing the dependencies and test data\n",
        "import pandas as pd\n",
        "from sklearn.preprocessing import StandardScaler\n",
        "import numpy as np\n",
        "\n",
        "##Reading the data\n",
        "data = pd.read_csv('C:/Users/Keerthi Ningegowda/Desktop/bd2_data/nor_data.csv')\n",
        "data"
      ],
      "execution_count": 0,
      "outputs": [
        {
          "output_type": "execute_result",
          "data": {
            "text/html": [
              "<div>\n",
              "<style scoped>\n",
              "    .dataframe tbody tr th:only-of-type {\n",
              "        vertical-align: middle;\n",
              "    }\n",
              "\n",
              "    .dataframe tbody tr th {\n",
              "        vertical-align: top;\n",
              "    }\n",
              "\n",
              "    .dataframe thead th {\n",
              "        text-align: right;\n",
              "    }\n",
              "</style>\n",
              "<table border=\"1\" class=\"dataframe\">\n",
              "  <thead>\n",
              "    <tr style=\"text-align: right;\">\n",
              "      <th></th>\n",
              "      <th>Pos</th>\n",
              "      <th>Value</th>\n",
              "      <th>Anomaly</th>\n",
              "    </tr>\n",
              "  </thead>\n",
              "  <tbody>\n",
              "    <tr>\n",
              "      <th>0</th>\n",
              "      <td>34:00.0</td>\n",
              "      <td>0.789063</td>\n",
              "      <td>0</td>\n",
              "    </tr>\n",
              "    <tr>\n",
              "      <th>1</th>\n",
              "      <td>34:00.0</td>\n",
              "      <td>0.785156</td>\n",
              "      <td>0</td>\n",
              "    </tr>\n",
              "    <tr>\n",
              "      <th>2</th>\n",
              "      <td>34:00.1</td>\n",
              "      <td>0.785156</td>\n",
              "      <td>0</td>\n",
              "    </tr>\n",
              "    <tr>\n",
              "      <th>3</th>\n",
              "      <td>34:00.1</td>\n",
              "      <td>0.789063</td>\n",
              "      <td>0</td>\n",
              "    </tr>\n",
              "    <tr>\n",
              "      <th>4</th>\n",
              "      <td>34:00.2</td>\n",
              "      <td>0.785156</td>\n",
              "      <td>0</td>\n",
              "    </tr>\n",
              "    <tr>\n",
              "      <th>...</th>\n",
              "      <td>...</td>\n",
              "      <td>...</td>\n",
              "      <td>...</td>\n",
              "    </tr>\n",
              "    <tr>\n",
              "      <th>3733</th>\n",
              "      <td>36:27.3</td>\n",
              "      <td>0.773438</td>\n",
              "      <td>0</td>\n",
              "    </tr>\n",
              "    <tr>\n",
              "      <th>3734</th>\n",
              "      <td>36:27.4</td>\n",
              "      <td>0.800781</td>\n",
              "      <td>0</td>\n",
              "    </tr>\n",
              "    <tr>\n",
              "      <th>3735</th>\n",
              "      <td>36:27.4</td>\n",
              "      <td>0.796875</td>\n",
              "      <td>0</td>\n",
              "    </tr>\n",
              "    <tr>\n",
              "      <th>3736</th>\n",
              "      <td>36:27.4</td>\n",
              "      <td>0.761719</td>\n",
              "      <td>0</td>\n",
              "    </tr>\n",
              "    <tr>\n",
              "      <th>3737</th>\n",
              "      <td>36:27.5</td>\n",
              "      <td>0.777344</td>\n",
              "      <td>0</td>\n",
              "    </tr>\n",
              "  </tbody>\n",
              "</table>\n",
              "<p>3738 rows × 3 columns</p>\n",
              "</div>"
            ],
            "text/plain": [
              "          Pos     Value  Anomaly\n",
              "0     34:00.0  0.789063        0\n",
              "1     34:00.0  0.785156        0\n",
              "2     34:00.1  0.785156        0\n",
              "3     34:00.1  0.789063        0\n",
              "4     34:00.2  0.785156        0\n",
              "...       ...       ...      ...\n",
              "3733  36:27.3  0.773438        0\n",
              "3734  36:27.4  0.800781        0\n",
              "3735  36:27.4  0.796875        0\n",
              "3736  36:27.4  0.761719        0\n",
              "3737  36:27.5  0.777344        0\n",
              "\n",
              "[3738 rows x 3 columns]"
            ]
          },
          "metadata": {
            "tags": []
          },
          "execution_count": 6
        }
      ]
    },
    {
      "cell_type": "code",
      "metadata": {
        "id": "oNXydbvnkqH2",
        "colab_type": "code",
        "colab": {},
        "outputId": "d6b79676-5a51-47eb-f07c-16c7b1139733"
      },
      "source": [
        "# Load the model\n",
        "from tensorflow.python.keras.models import model_from_json\n",
        "json_file = open('ANN_model.json', 'r')\n",
        "loaded_model_json = json_file.read()\n",
        "json_file.close()\n",
        "model = model_from_json(loaded_model_json)\n",
        "# load weights into new model\n",
        "model.load_weights(\"ANN_Elevator.h5\")\n",
        "print(\"Loaded model from disk\")"
      ],
      "execution_count": 0,
      "outputs": [
        {
          "output_type": "stream",
          "text": [
            "Loaded model from disk\n"
          ],
          "name": "stdout"
        }
      ]
    },
    {
      "cell_type": "code",
      "metadata": {
        "id": "WJnBCVB-kqH_",
        "colab_type": "code",
        "colab": {}
      },
      "source": [
        "##Getting the acceleration values from test data\n",
        "Z = data['Value'].values\n"
      ],
      "execution_count": 0,
      "outputs": []
    },
    {
      "cell_type": "code",
      "metadata": {
        "id": "8culNBuXkqIF",
        "colab_type": "code",
        "colab": {}
      },
      "source": [
        "#Performing the Z normalization\n",
        "test_scaler = StandardScaler(with_mean = True, with_std = True)\n",
        "Z = Z.reshape(-1,1)\n",
        "testZ = test_scaler.fit_transform(Z)\n",
        "mean = np.mean(testZ)"
      ],
      "execution_count": 0,
      "outputs": []
    },
    {
      "cell_type": "code",
      "metadata": {
        "id": "VIeun48xkqIP",
        "colab_type": "code",
        "colab": {}
      },
      "source": [
        "#Performing moving averages to reduce noise\n",
        "\n",
        "testmovAvg = pd.DataFrame(data=testZ[:],\n",
        "                     columns = ['Zmovavg'])\n",
        "Y_true = testmovAvg.rolling(window=1).mean().fillna(mean)"
      ],
      "execution_count": 0,
      "outputs": []
    },
    {
      "cell_type": "code",
      "metadata": {
        "id": "v8o4WzuSkqIW",
        "colab_type": "code",
        "colab": {}
      },
      "source": [
        "##Predicting the acceleration values of Z-scale\n",
        "\n",
        "Y_pred = model.predict(Y_true)"
      ],
      "execution_count": 0,
      "outputs": []
    },
    {
      "cell_type": "code",
      "metadata": {
        "id": "5ci4A6nekqIb",
        "colab_type": "code",
        "colab": {}
      },
      "source": [
        "##Creating an error dataframe \n",
        "\n",
        "error_df = pd.DataFrame(columns=['timestamp','y_pred','y_true','difference','actual_label'])"
      ],
      "execution_count": 0,
      "outputs": []
    },
    {
      "cell_type": "code",
      "metadata": {
        "id": "_128YsGRkqIh",
        "colab_type": "code",
        "colab": {}
      },
      "source": [
        "##Filling the error dataframe with timestamp,Y_pred, Y_true, absolute difference and lables\n",
        "\n",
        "error_df['timestamp'] = data['Pos']\n",
        "error_df['y_pred'] = Y_pred.flatten()\n",
        "error_df['y_true'] = Y_true['Zmovavg'].values.flatten()\n",
        "error_df['actual_label'] = data['Anomaly']\n",
        "\n",
        "error_df['difference'] = np.abs(error_df['y_pred']-error_df['y_true'])"
      ],
      "execution_count": 0,
      "outputs": []
    },
    {
      "cell_type": "code",
      "metadata": {
        "id": "l-4V3WdPkqIn",
        "colab_type": "code",
        "colab": {},
        "outputId": "741784a1-c9d6-4893-86bd-adbefc3f9601"
      },
      "source": [
        "##Setting the threshold\n",
        "\n",
        "threshold = 0.0064460794447717355"
      ],
      "execution_count": 0,
      "outputs": [
        {
          "output_type": "execute_result",
          "data": {
            "text/plain": [
              "0.0064460794447717355"
            ]
          },
          "metadata": {
            "tags": []
          },
          "execution_count": 21
        }
      ]
    },
    {
      "cell_type": "code",
      "metadata": {
        "id": "35TeSttskqIt",
        "colab_type": "code",
        "colab": {}
      },
      "source": [
        "##Filling the labels based on threshold value\n",
        "##If Y_pred <= threshold, then the point is not an anamoly\n",
        "##else an anamoly\n",
        "\n",
        "error_df['label'] = np.where(error_df['difference'] <= threshold,0,1)"
      ],
      "execution_count": 0,
      "outputs": []
    },
    {
      "cell_type": "code",
      "metadata": {
        "id": "4A8IWW_xkqIz",
        "colab_type": "code",
        "colab": {},
        "outputId": "6d5af2ed-eb8a-4da3-9f40-a5e6201ad04b"
      },
      "source": [
        "##Plotting the original signals and anamolies in the signals\n",
        "\n",
        "##Red points indicate anamoly \n",
        "\n",
        "import matplotlib.pyplot as plt\n",
        "\n",
        "new_df = error_df['timestamp']\n",
        "z_pred = error_df['y_pred']\n",
        "z_actual=error_df['y_true']\n",
        "plt.figure(figsize=(20,5))\n",
        "plt.plot(new_df,z_actual,label='original')\n",
        "plt.scatter(time,points,color='red')\n",
        "plt.show()"
      ],
      "execution_count": 0,
      "outputs": [
        {
          "output_type": "display_data",
          "data": {
            "image/png": "[encoded data removed]",
            "text/plain": [
              "<Figure size 1440x360 with 1 Axes>"
            ]
          },
          "metadata": {
            "tags": [],
            "needs_background": "light"
          }
        }
      ]
    },
    {
      "cell_type": "code",
      "metadata": {
        "id": "YVp8FL3pkqI6",
        "colab_type": "code",
        "colab": {}
      },
      "source": [
        "##Evaluating the model performance by calculating precision"
      ],
      "execution_count": 0,
      "outputs": []
    },
    {
      "cell_type": "code",
      "metadata": {
        "id": "19OqdahlkqJA",
        "colab_type": "code",
        "colab": {}
      },
      "source": [
        "##Computing confusion matrix\n",
        "\n",
        "from sklearn.metrics import confusion_matrix\n",
        "\n",
        "tn,fp,fn,tp = confusion_matrix(error_df['actual_label'],error_df['label']).ravel()"
      ],
      "execution_count": 0,
      "outputs": []
    },
    {
      "cell_type": "code",
      "metadata": {
        "id": "4QdRwaoWkqJF",
        "colab_type": "code",
        "colab": {}
      },
      "source": [
        "##Calculating precision and recall\n",
        "\n",
        "precision = tp/(tp + fp)\n",
        "recall = tp/(tp + fn) "
      ],
      "execution_count": 0,
      "outputs": []
    },
    {
      "cell_type": "code",
      "metadata": {
        "id": "GBE2kUMVkqJK",
        "colab_type": "code",
        "colab": {}
      },
      "source": [
        "#Calculating f1_score\n",
        "\n",
        "f1_score = (2*(precision * recall))/(precision + recall)"
      ],
      "execution_count": 0,
      "outputs": []
    },
    {
      "cell_type": "code",
      "metadata": {
        "id": "0n_owIMrkqJZ",
        "colab_type": "code",
        "colab": {},
        "outputId": "4e9b787a-b17c-423f-82bf-9efab9796b7d"
      },
      "source": [
        "precision"
      ],
      "execution_count": 0,
      "outputs": [
        {
          "output_type": "execute_result",
          "data": {
            "text/plain": [
              "0.18181818181818182"
            ]
          },
          "metadata": {
            "tags": []
          },
          "execution_count": 228
        }
      ]
    },
    {
      "cell_type": "code",
      "metadata": {
        "id": "ZEub5sDGkqJe",
        "colab_type": "code",
        "colab": {},
        "outputId": "50004c93-219b-4876-aa6d-658d872f5b2e"
      },
      "source": [
        "fn"
      ],
      "execution_count": 0,
      "outputs": [
        {
          "output_type": "execute_result",
          "data": {
            "text/plain": [
              "16"
            ]
          },
          "metadata": {
            "tags": []
          },
          "execution_count": 229
        }
      ]
    },
    {
      "cell_type": "code",
      "metadata": {
        "id": "SJNmPrn5kqJi",
        "colab_type": "code",
        "colab": {},
        "outputId": "9952fa2d-52b5-4fc6-8fce-2680d753600b"
      },
      "source": [
        "f1_score"
      ],
      "execution_count": 0,
      "outputs": [
        {
          "output_type": "execute_result",
          "data": {
            "text/plain": [
              "0.28691983122362874"
            ]
          },
          "metadata": {
            "tags": []
          },
          "execution_count": 230
        }
      ]
    }
  ]
}