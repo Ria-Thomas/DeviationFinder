{
  "nbformat": 4,
  "nbformat_minor": 0,
  "metadata": {
    "colab": {
      "name": "LSTM_AE_Model_Evaluation.ipynb",
      "provenance": [],
      "collapsed_sections": [],
      "toc_visible": true
    },
    "kernelspec": {
      "name": "python3",
      "display_name": "Python 3"
    }
  },
  "cells": [
    {
      "cell_type": "code",
      "metadata": {
        "id": "JREX0Z16lv2Q",
        "colab_type": "code",
        "colab": {}
      },
      "source": [
        "##Author : Ria Thomas\n",
        "##Master's in Computer Science with Big Data \n",
        "##Simon Fraser University, Burnaby\n",
        "##Created on : April 13, 2020"
      ],
      "execution_count": 0,
      "outputs": []
    },
    {
      "cell_type": "code",
      "metadata": {
        "id": "kdCTp5HA0Fgn",
        "colab_type": "code",
        "colab": {}
      },
      "source": [
        "import pandas as pd\n",
        "import numpy as np\n",
        "import matplotlib.pyplot as plt"
      ],
      "execution_count": 0,
      "outputs": []
    },
    {
      "cell_type": "code",
      "metadata": {
        "id": "mPK0Xau_0I7E",
        "colab_type": "code",
        "colab": {}
      },
      "source": [
        "# Use the file generated for evaluation\n",
        "anomaly = pd.read_csv('Sample_test_data.csv')"
      ],
      "execution_count": 0,
      "outputs": []
    },
    {
      "cell_type": "code",
      "metadata": {
        "id": "LYuE5KnT0bHT",
        "colab_type": "code",
        "colab": {}
      },
      "source": [
        "anomaly.rename(columns={ anomaly.columns[0]: 'Pos',anomaly.columns[1]: 'Value',anomaly.columns[2]: 'Anomaly'}, inplace=True)\n"
      ],
      "execution_count": 0,
      "outputs": []
    },
    {
      "cell_type": "code",
      "metadata": {
        "id": "VbvG38SGyPXX",
        "colab_type": "code",
        "colab": {}
      },
      "source": [
        "anomaly = anomaly.iloc[1520:]"
      ],
      "execution_count": 0,
      "outputs": []
    },
    {
      "cell_type": "code",
      "metadata": {
        "id": "peZ1RNKIVGNs",
        "colab_type": "code",
        "outputId": "859bb52b-2626-4e4f-cf87-2ef1493dbbcb",
        "colab": {
          "base_uri": "https://localhost:8080/",
          "height": 424
        }
      },
      "source": [
        "anomaly"
      ],
      "execution_count": 0,
      "outputs": [
        {
          "output_type": "execute_result",
          "data": {
            "text/html": [
              "<div>\n",
              "<style scoped>\n",
              "    .dataframe tbody tr th:only-of-type {\n",
              "        vertical-align: middle;\n",
              "    }\n",
              "\n",
              "    .dataframe tbody tr th {\n",
              "        vertical-align: top;\n",
              "    }\n",
              "\n",
              "    .dataframe thead th {\n",
              "        text-align: right;\n",
              "    }\n",
              "</style>\n",
              "<table border=\"1\" class=\"dataframe\">\n",
              "  <thead>\n",
              "    <tr style=\"text-align: right;\">\n",
              "      <th></th>\n",
              "      <th>Pos</th>\n",
              "      <th>Value</th>\n",
              "      <th>Anomaly</th>\n",
              "    </tr>\n",
              "  </thead>\n",
              "  <tbody>\n",
              "    <tr>\n",
              "      <th>0</th>\n",
              "      <td>35:27.0</td>\n",
              "      <td>0.789063</td>\n",
              "      <td>0</td>\n",
              "    </tr>\n",
              "    <tr>\n",
              "      <th>1</th>\n",
              "      <td>35:27.0</td>\n",
              "      <td>0.785156</td>\n",
              "      <td>0</td>\n",
              "    </tr>\n",
              "    <tr>\n",
              "      <th>2</th>\n",
              "      <td>35:27.1</td>\n",
              "      <td>0.781250</td>\n",
              "      <td>0</td>\n",
              "    </tr>\n",
              "    <tr>\n",
              "      <th>3</th>\n",
              "      <td>35:27.1</td>\n",
              "      <td>0.785156</td>\n",
              "      <td>0</td>\n",
              "    </tr>\n",
              "    <tr>\n",
              "      <th>4</th>\n",
              "      <td>35:27.1</td>\n",
              "      <td>0.789063</td>\n",
              "      <td>0</td>\n",
              "    </tr>\n",
              "    <tr>\n",
              "      <th>...</th>\n",
              "      <td>...</td>\n",
              "      <td>...</td>\n",
              "      <td>...</td>\n",
              "    </tr>\n",
              "    <tr>\n",
              "      <th>1515</th>\n",
              "      <td>36:26.8</td>\n",
              "      <td>0.781250</td>\n",
              "      <td>0</td>\n",
              "    </tr>\n",
              "    <tr>\n",
              "      <th>1516</th>\n",
              "      <td>36:26.8</td>\n",
              "      <td>0.804688</td>\n",
              "      <td>0</td>\n",
              "    </tr>\n",
              "    <tr>\n",
              "      <th>1517</th>\n",
              "      <td>36:26.8</td>\n",
              "      <td>0.777344</td>\n",
              "      <td>0</td>\n",
              "    </tr>\n",
              "    <tr>\n",
              "      <th>1518</th>\n",
              "      <td>36:26.9</td>\n",
              "      <td>0.773438</td>\n",
              "      <td>0</td>\n",
              "    </tr>\n",
              "    <tr>\n",
              "      <th>1519</th>\n",
              "      <td>36:26.9</td>\n",
              "      <td>0.808594</td>\n",
              "      <td>0</td>\n",
              "    </tr>\n",
              "  </tbody>\n",
              "</table>\n",
              "<p>1520 rows × 3 columns</p>\n",
              "</div>"
            ],
            "text/plain": [
              "          Pos     Value  Anomaly\n",
              "0     35:27.0  0.789063        0\n",
              "1     35:27.0  0.785156        0\n",
              "2     35:27.1  0.781250        0\n",
              "3     35:27.1  0.785156        0\n",
              "4     35:27.1  0.789063        0\n",
              "...       ...       ...      ...\n",
              "1515  36:26.8  0.781250        0\n",
              "1516  36:26.8  0.804688        0\n",
              "1517  36:26.8  0.777344        0\n",
              "1518  36:26.9  0.773438        0\n",
              "1519  36:26.9  0.808594        0\n",
              "\n",
              "[1520 rows x 3 columns]"
            ]
          },
          "metadata": {
            "tags": []
          },
          "execution_count": 229
        }
      ]
    },
    {
      "cell_type": "code",
      "metadata": {
        "id": "2sARemLC0LE9",
        "colab_type": "code",
        "colab": {}
      },
      "source": [
        "# Standard scaling\n",
        "\n",
        "from sklearn.preprocessing import StandardScaler\n",
        "\n",
        "scaler = StandardScaler(with_mean=True,with_std=True)\n",
        "anomaly['Value_scaled'] = scaler.fit_transform(anomaly[['Value']])"
      ],
      "execution_count": 0,
      "outputs": []
    },
    {
      "cell_type": "code",
      "metadata": {
        "id": "hmRhM5Sj0XHr",
        "colab_type": "code",
        "colab": {}
      },
      "source": [
        "# Apply moving average\n",
        "\n",
        "anomaly['movingAverage'] = anomaly['Value_scaled'].rolling(3).mean()\n",
        "anomaly.dropna(inplace=True)"
      ],
      "execution_count": 0,
      "outputs": []
    },
    {
      "cell_type": "code",
      "metadata": {
        "id": "3gKTAr2Z1Bb9",
        "colab_type": "code",
        "colab": {}
      },
      "source": [
        "test = anomaly[['Pos','movingAverage']]"
      ],
      "execution_count": 0,
      "outputs": []
    },
    {
      "cell_type": "code",
      "metadata": {
        "id": "nT3Fc1eS27eF",
        "colab_type": "code",
        "outputId": "c25803c3-bdc7-40ec-855d-c17d505a4588",
        "colab": {
          "base_uri": "https://localhost:8080/",
          "height": 34
        }
      },
      "source": [
        "# Load the model\n",
        "from tensorflow.python.keras.models import model_from_json\n",
        "json_file = open('/content/drive/My Drive/LSTM_model_T3.json', 'r')\n",
        "loaded_model_json = json_file.read()\n",
        "json_file.close()\n",
        "model = model_from_json(loaded_model_json)\n",
        "# load weights into new model\n",
        "model.load_weights(\"/content/drive/My Drive/LSTM_weights_T3.h5\")\n",
        "print(\"Loaded model from disk\")"
      ],
      "execution_count": 0,
      "outputs": [
        {
          "output_type": "stream",
          "text": [
            "Loaded model from disk\n"
          ],
          "name": "stdout"
        }
      ]
    },
    {
      "cell_type": "code",
      "metadata": {
        "id": "lnNVsTWrWyeS",
        "colab_type": "code",
        "colab": {}
      },
      "source": [
        "def create_dataset(X, y, time_steps=1):\n",
        "    Xs, ys = [], []\n",
        "    for i in range(len(X) - time_steps):\n",
        "        v = X.iloc[i:(i + time_steps)].values\n",
        "        Xs.append(v)\n",
        "        ys.append(y.iloc[i + time_steps])\n",
        "    return np.array(Xs), np.array(ys)"
      ],
      "execution_count": 0,
      "outputs": []
    },
    {
      "cell_type": "code",
      "metadata": {
        "id": "WtnQRGksU0YO",
        "colab_type": "code",
        "colab": {}
      },
      "source": [
        "TIME_STEPS = 5\n",
        "X_test, y_test = create_dataset(\n",
        "  test[['movingAverage']],\n",
        "  test.movingAverage,\n",
        "  TIME_STEPS\n",
        ")"
      ],
      "execution_count": 0,
      "outputs": []
    },
    {
      "cell_type": "code",
      "metadata": {
        "id": "2kfBVNqlVuAb",
        "colab_type": "code",
        "colab": {}
      },
      "source": [
        "X_test = np.reshape(X_test,(X_test.shape[0],X_test.shape[1],1))"
      ],
      "execution_count": 0,
      "outputs": []
    },
    {
      "cell_type": "code",
      "metadata": {
        "id": "Otw0q2s6Vt-B",
        "colab_type": "code",
        "colab": {}
      },
      "source": [
        "X_test_pred = model.predict(X_test)\n",
        "test_mae_loss = np.mean(np.abs(X_test_pred - X_test), axis=1)"
      ],
      "execution_count": 0,
      "outputs": []
    },
    {
      "cell_type": "code",
      "metadata": {
        "id": "rcmH0F4zVt72",
        "colab_type": "code",
        "colab": {}
      },
      "source": [
        "threshold = 1.3338202437285336     # Calculated from 95th percentile of training loss\n",
        "test_score_df = pd.DataFrame(index=test[5:].index)\n",
        "test_score_df['loss'] = test_mae_loss\n",
        "test_score_df['threshold'] = threshold\n",
        "test_score_df['anomaly'] = test_score_df.loss > test_score_df.threshold\n",
        "test_score_df['movAverage'] = test[5:].movingAverage"
      ],
      "execution_count": 0,
      "outputs": []
    },
    {
      "cell_type": "code",
      "metadata": {
        "id": "zezF5TemVt2A",
        "colab_type": "code",
        "colab": {}
      },
      "source": [
        "anomalies = test_score_df[test_score_df.anomaly == True]"
      ],
      "execution_count": 0,
      "outputs": []
    },
    {
      "cell_type": "code",
      "metadata": {
        "id": "zs49akpcWgHr",
        "colab_type": "code",
        "colab": {}
      },
      "source": [
        "anomaly.reset_index(inplace=True)\n",
        "test_score_df.reset_index(inplace=True)"
      ],
      "execution_count": 0,
      "outputs": []
    },
    {
      "cell_type": "code",
      "metadata": {
        "id": "HAtjYBD4WgEe",
        "colab_type": "code",
        "colab": {}
      },
      "source": [
        "df_final = pd.merge(anomaly,test_score_df,on='index')"
      ],
      "execution_count": 0,
      "outputs": []
    },
    {
      "cell_type": "code",
      "metadata": {
        "id": "FruREfSuXbAL",
        "colab_type": "code",
        "colab": {}
      },
      "source": [
        "df_final['anomaly']=df_final['anomaly'].astype(int)"
      ],
      "execution_count": 0,
      "outputs": []
    },
    {
      "cell_type": "code",
      "metadata": {
        "id": "9GfSE0KxXbzh",
        "colab_type": "code",
        "colab": {}
      },
      "source": [
        "df_final = df_final[['Pos','Value','anomaly']]"
      ],
      "execution_count": 0,
      "outputs": []
    },
    {
      "cell_type": "code",
      "metadata": {
        "id": "kI1H5PWT23hN",
        "colab_type": "code",
        "outputId": "da3fab75-aa01-4b10-d9c5-ace3e4cab4bf",
        "colab": {
          "base_uri": "https://localhost:8080/",
          "height": 424
        }
      },
      "source": [
        "df_final"
      ],
      "execution_count": 0,
      "outputs": [
        {
          "output_type": "execute_result",
          "data": {
            "text/html": [
              "<div>\n",
              "<style scoped>\n",
              "    .dataframe tbody tr th:only-of-type {\n",
              "        vertical-align: middle;\n",
              "    }\n",
              "\n",
              "    .dataframe tbody tr th {\n",
              "        vertical-align: top;\n",
              "    }\n",
              "\n",
              "    .dataframe thead th {\n",
              "        text-align: right;\n",
              "    }\n",
              "</style>\n",
              "<table border=\"1\" class=\"dataframe\">\n",
              "  <thead>\n",
              "    <tr style=\"text-align: right;\">\n",
              "      <th></th>\n",
              "      <th>Pos</th>\n",
              "      <th>Value</th>\n",
              "      <th>anomaly</th>\n",
              "    </tr>\n",
              "  </thead>\n",
              "  <tbody>\n",
              "    <tr>\n",
              "      <th>0</th>\n",
              "      <td>35:27.3</td>\n",
              "      <td>0.785156</td>\n",
              "      <td>0</td>\n",
              "    </tr>\n",
              "    <tr>\n",
              "      <th>1</th>\n",
              "      <td>35:27.3</td>\n",
              "      <td>0.785156</td>\n",
              "      <td>0</td>\n",
              "    </tr>\n",
              "    <tr>\n",
              "      <th>2</th>\n",
              "      <td>35:27.3</td>\n",
              "      <td>0.781250</td>\n",
              "      <td>0</td>\n",
              "    </tr>\n",
              "    <tr>\n",
              "      <th>3</th>\n",
              "      <td>35:27.4</td>\n",
              "      <td>0.781250</td>\n",
              "      <td>0</td>\n",
              "    </tr>\n",
              "    <tr>\n",
              "      <th>4</th>\n",
              "      <td>35:27.4</td>\n",
              "      <td>0.781250</td>\n",
              "      <td>0</td>\n",
              "    </tr>\n",
              "    <tr>\n",
              "      <th>...</th>\n",
              "      <td>...</td>\n",
              "      <td>...</td>\n",
              "      <td>...</td>\n",
              "    </tr>\n",
              "    <tr>\n",
              "      <th>1508</th>\n",
              "      <td>36:26.8</td>\n",
              "      <td>0.781250</td>\n",
              "      <td>0</td>\n",
              "    </tr>\n",
              "    <tr>\n",
              "      <th>1509</th>\n",
              "      <td>36:26.8</td>\n",
              "      <td>0.804688</td>\n",
              "      <td>0</td>\n",
              "    </tr>\n",
              "    <tr>\n",
              "      <th>1510</th>\n",
              "      <td>36:26.8</td>\n",
              "      <td>0.777344</td>\n",
              "      <td>0</td>\n",
              "    </tr>\n",
              "    <tr>\n",
              "      <th>1511</th>\n",
              "      <td>36:26.9</td>\n",
              "      <td>0.773438</td>\n",
              "      <td>0</td>\n",
              "    </tr>\n",
              "    <tr>\n",
              "      <th>1512</th>\n",
              "      <td>36:26.9</td>\n",
              "      <td>0.808594</td>\n",
              "      <td>0</td>\n",
              "    </tr>\n",
              "  </tbody>\n",
              "</table>\n",
              "<p>1513 rows × 3 columns</p>\n",
              "</div>"
            ],
            "text/plain": [
              "          Pos     Value  anomaly\n",
              "0     35:27.3  0.785156        0\n",
              "1     35:27.3  0.785156        0\n",
              "2     35:27.3  0.781250        0\n",
              "3     35:27.4  0.781250        0\n",
              "4     35:27.4  0.781250        0\n",
              "...       ...       ...      ...\n",
              "1508  36:26.8  0.781250        0\n",
              "1509  36:26.8  0.804688        0\n",
              "1510  36:26.8  0.777344        0\n",
              "1511  36:26.9  0.773438        0\n",
              "1512  36:26.9  0.808594        0\n",
              "\n",
              "[1513 rows x 3 columns]"
            ]
          },
          "metadata": {
            "tags": []
          },
          "execution_count": 245
        }
      ]
    },
    {
      "cell_type": "code",
      "metadata": {
        "id": "yLtUhCT7cI9d",
        "colab_type": "code",
        "outputId": "c71f92fc-9f02-4c51-a8f6-a993c2d2c772",
        "colab": {
          "base_uri": "https://localhost:8080/",
          "height": 381
        }
      },
      "source": [
        "plt.plot(df_final['Pos'],df_final['Value'],'-')\n",
        "plt.scatter(df_final.Pos[df_final.anomaly==True], df_final.Value[df_final.anomaly==True],marker='o',c='red')\n",
        "plt.title('LSTM Autoencoders')\n",
        "plt.xticks(rotation = 90)\n",
        "plt.legend();"
      ],
      "execution_count": 0,
      "outputs": [
        {
          "output_type": "stream",
          "text": [
            "No handles with labels found to put in legend.\n"
          ],
          "name": "stderr"
        },
        {
          "output_type": "display_data",
          "data": {
            "image/png": "[encoded data removed]",
            "text/plain": [
              "<Figure size 1440x360 with 1 Axes>"
            ]
          },
          "metadata": {
            "tags": [],
            "needs_background": "light"
          }
        }
      ]
    },
    {
      "cell_type": "code",
      "metadata": {
        "colab_type": "code",
        "id": "M_1E-rlF6vKh",
        "colab": {}
      },
      "source": [
        "from sklearn.metrics import confusion_matrix"
      ],
      "execution_count": 0,
      "outputs": []
    },
    {
      "cell_type": "code",
      "metadata": {
        "colab_type": "code",
        "id": "GPzwhy3c6vLK",
        "colab": {}
      },
      "source": [
        "y_true = anomaly['Anomaly'] \n",
        "y_true = y_true[5:]   # the true anomaly column(0/1)\n",
        "y_pred = df_final['anomaly']    # the predicted anomaly column"
      ],
      "execution_count": 0,
      "outputs": []
    },
    {
      "cell_type": "code",
      "metadata": {
        "colab_type": "code",
        "id": "M8RQTVr-6vLV",
        "colab": {}
      },
      "source": [
        "# Find the confusion matrix\n",
        "\n",
        "tn,fp,fn,tp = confusion_matrix(y_true,y_pred).ravel()"
      ],
      "execution_count": 0,
      "outputs": []
    },
    {
      "cell_type": "code",
      "metadata": {
        "colab_type": "code",
        "outputId": "0abf1c0c-bc51-4962-ba7a-63f91ebe812b",
        "id": "byVVBwaG6vLd",
        "colab": {
          "base_uri": "https://localhost:8080/",
          "height": 86
        }
      },
      "source": [
        "print(\"True negatives :\",tn)\n",
        "print(\"False positives :\",fp)\n",
        "print(\"True positives :\",fn)\n",
        "print(\"False negatives :\",tp)"
      ],
      "execution_count": 0,
      "outputs": [
        {
          "output_type": "stream",
          "text": [
            "True negatives : 1449\n",
            "False positives : 15\n",
            "True positives : 17\n",
            "False negatives : 32\n"
          ],
          "name": "stdout"
        }
      ]
    },
    {
      "cell_type": "code",
      "metadata": {
        "colab_type": "code",
        "id": "kStXXMFf6vLk",
        "colab": {}
      },
      "source": [
        "# Calculate precision and recall\n",
        "\n",
        "precision = tp/(tp + fp)\n",
        "recall = tp/(tp + fn) "
      ],
      "execution_count": 0,
      "outputs": []
    },
    {
      "cell_type": "code",
      "metadata": {
        "colab_type": "code",
        "outputId": "67b00b18-517d-460f-c136-5256af36c00b",
        "id": "0Uw5zQJ56vLq",
        "colab": {
          "base_uri": "https://localhost:8080/",
          "height": 34
        }
      },
      "source": [
        "precision"
      ],
      "execution_count": 0,
      "outputs": [
        {
          "output_type": "execute_result",
          "data": {
            "text/plain": [
              "0.6808510638297872"
            ]
          },
          "metadata": {
            "tags": []
          },
          "execution_count": 252
        }
      ]
    },
    {
      "cell_type": "code",
      "metadata": {
        "colab_type": "code",
        "outputId": "2a21bef9-e174-45da-d440-84eba14bebc7",
        "id": "XV6aIAWJ6vLy",
        "colab": {
          "base_uri": "https://localhost:8080/",
          "height": 34
        }
      },
      "source": [
        "recall"
      ],
      "execution_count": 0,
      "outputs": [
        {
          "output_type": "execute_result",
          "data": {
            "text/plain": [
              "0.6530612244897959"
            ]
          },
          "metadata": {
            "tags": []
          },
          "execution_count": 253
        }
      ]
    },
    {
      "cell_type": "code",
      "metadata": {
        "colab_type": "code",
        "id": "JSXEpxDp6vL4",
        "colab": {}
      },
      "source": [
        "f1_score = (2*(precision * recall))/(precision + recall)"
      ],
      "execution_count": 0,
      "outputs": []
    },
    {
      "cell_type": "code",
      "metadata": {
        "colab_type": "code",
        "outputId": "3927cd57-b4ef-43f6-97b4-6efef8ebb4d5",
        "id": "HmpUNSht6vL-",
        "colab": {
          "base_uri": "https://localhost:8080/",
          "height": 34
        }
      },
      "source": [
        "f1_score"
      ],
      "execution_count": 0,
      "outputs": [
        {
          "output_type": "execute_result",
          "data": {
            "text/plain": [
              "0.6666666666666666"
            ]
          },
          "metadata": {
            "tags": []
          },
          "execution_count": 255
        }
      ]
    }
  ]
}