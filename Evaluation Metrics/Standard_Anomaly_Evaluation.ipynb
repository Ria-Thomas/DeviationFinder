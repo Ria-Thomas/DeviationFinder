{
  "nbformat": 4,
  "nbformat_minor": 0,
  "metadata": {
    "kernelspec": {
      "display_name": "Python 3",
      "language": "python",
      "name": "python3"
    },
    "language_info": {
      "codemirror_mode": {
        "name": "ipython",
        "version": 3
      },
      "file_extension": ".py",
      "mimetype": "text/x-python",
      "name": "python",
      "nbconvert_exporter": "python",
      "pygments_lexer": "ipython3",
      "version": "3.6.9"
    },
    "colab": {
      "name": "Standard_Anomaly_Evaluation.ipynb",
      "provenance": [],
      "collapsed_sections": [],
      "toc_visible": true
    }
  },
  "cells": [
    {
      "cell_type": "code",
      "metadata": {
        "id": "EBH87T_4lkbN",
        "colab_type": "code",
        "colab": {}
      },
      "source": [
        "##Author : Kenny T Chakola\n",
        "##Master's in Computer Science with Big Data \n",
        "##Simon Fraser University, Burnaby\n",
        "##Created on : April 12 2020"
      ],
      "execution_count": 0,
      "outputs": []
    },
    {
      "cell_type": "code",
      "metadata": {
        "id": "2J3C5OaUAHwi",
        "colab_type": "code",
        "colab": {}
      },
      "source": [
        "!apt-get install openjdk-8-jdk-headless -qq > /dev/null\n",
        "!wget -q https://downloads.apache.org/spark/spark-2.4.5/spark-2.4.5-bin-hadoop2.7.tgz\n",
        "!tar xf spark-2.4.5-bin-hadoop2.7.tgz\n",
        "!pip install -q findspark"
      ],
      "execution_count": 0,
      "outputs": []
    },
    {
      "cell_type": "code",
      "metadata": {
        "id": "fFiUU5acAQK5",
        "colab_type": "code",
        "colab": {}
      },
      "source": [
        "import os\n",
        "os.environ[\"JAVA_HOME\"] = \"/usr/lib/jvm/java-8-openjdk-amd64\"\n",
        "os.environ[\"SPARK_HOME\"] = \"/content/spark-2.4.5-bin-hadoop2.7\""
      ],
      "execution_count": 0,
      "outputs": []
    },
    {
      "cell_type": "code",
      "metadata": {
        "id": "VT-84LI6BhO2",
        "colab_type": "code",
        "colab": {}
      },
      "source": [
        "import findspark\n",
        "findspark.init()"
      ],
      "execution_count": 0,
      "outputs": []
    },
    {
      "cell_type": "code",
      "metadata": {
        "id": "NVls98WbOy2R",
        "colab_type": "code",
        "outputId": "268bbdde-d1f3-4369-b485-39b125a7fab0",
        "colab": {
          "base_uri": "https://localhost:8080/",
          "height": 34
        }
      },
      "source": [
        "from google.colab import drive\n",
        "drive.mount('/content/drive')"
      ],
      "execution_count": 0,
      "outputs": [
        {
          "output_type": "stream",
          "text": [
            "Drive already mounted at /content/drive; to attempt to forcibly remount, call drive.mount(\"/content/drive\", force_remount=True).\n"
          ],
          "name": "stdout"
        }
      ]
    },
    {
      "cell_type": "code",
      "metadata": {
        "id": "o384Ty68OaTU",
        "colab_type": "code",
        "colab": {}
      },
      "source": [
        "import pandas as pd\n",
        "import numpy as np\n",
        "import matplotlib.pyplot as plt\n",
        "from scipy.signal import butter, lfilter, freqz\n",
        "from pyspark.sql import SparkSession, functions, types\n",
        "from pyspark.sql.functions import lit\n",
        "from pyspark.ml.feature import StandardScaler\n",
        "from pyspark.ml.feature import VectorAssembler\n",
        "from pyspark.sql.functions import col, mean, stddev,stddev_pop,avg,max,to_timestamp,udf,desc\n",
        "from pyspark.sql import Window"
      ],
      "execution_count": 0,
      "outputs": []
    },
    {
      "cell_type": "code",
      "metadata": {
        "id": "qPC_O-OUOaTr",
        "colab_type": "code",
        "colab": {}
      },
      "source": [
        "spark = SparkSession.builder.appName('standard anomaly').getOrCreate()\n",
        "spark.sparkContext.setLogLevel('WARN')\n",
        "assert spark.version >= '2.4'  # make sure we have Spark 2.4+"
      ],
      "execution_count": 0,
      "outputs": []
    },
    {
      "cell_type": "code",
      "metadata": {
        "id": "i01Hj6X6OaT1",
        "colab_type": "code",
        "colab": {}
      },
      "source": [
        "input = 'Sample_test_data.csv'\n",
        "# Defining the schema for tmax datasets\n",
        "def sensor_schema():\n",
        "    sen_schema = types.StructType([\n",
        "        types.StructField('timestamp', types.StringType()),\n",
        "        types.StructField('X', types.DoubleType()),\n",
        "        types.StructField('Y', types.DoubleType()),\n",
        "        types.StructField('Z', types.DoubleType()),\n",
        "    ])\n",
        "    return sen_schema\n",
        "\n",
        "sens_schema = sensor_schema()\n",
        "#Spark read of data\n",
        "temp = spark.read.csv(input, schema=sens_schema)"
      ],
      "execution_count": 0,
      "outputs": []
    },
    {
      "cell_type": "code",
      "metadata": {
        "scrolled": false,
        "id": "NlPyw2dGOaUB",
        "colab_type": "code",
        "colab": {}
      },
      "source": [
        "temp.createOrReplaceTempView(\"temp\")\n",
        "temp = spark.sql(\"select timestamp,Z from temp\").cache()\n"
      ],
      "execution_count": 0,
      "outputs": []
    },
    {
      "cell_type": "markdown",
      "metadata": {
        "id": "dKhxgl1VOaUT",
        "colab_type": "text"
      },
      "source": [
        "# Data pre-processing"
      ]
    },
    {
      "cell_type": "code",
      "metadata": {
        "id": "7MXsmdx3OaUV",
        "colab_type": "code",
        "outputId": "9b434a78-1ded-4040-9f0b-f8272a1e3fcf",
        "colab": {
          "base_uri": "https://localhost:8080/",
          "height": 469
        }
      },
      "source": [
        "# UDF for converting column type from vector to double type\n",
        "unlist = udf(lambda x: round(float(list(x)[0]),6), types.DoubleType())\n",
        "\n",
        "assembler = VectorAssembler(\n",
        "    inputCols=[\"Z\"],\n",
        "    outputCol=\"Zvector\")\n",
        "tempdata = assembler.transform(temp)\n",
        "scaler = StandardScaler(inputCol=\"Zvector\", outputCol=\"Zscale\",withMean=True, withStd=True)\n",
        "scalerModel = scaler.fit(tempdata)\n",
        "scaledData = scalerModel.transform(tempdata).withColumn(\"Zscale\", unlist(\"Zscale\")).drop(\"Zvector\").cache()\n",
        "scaledData.show()"
      ],
      "execution_count": 0,
      "outputs": [
        {
          "output_type": "stream",
          "text": [
            "+--------------------+--------+---------+\n",
            "|           timestamp|       Z|   Zscale|\n",
            "+--------------------+--------+---------+\n",
            "|2018-08-08 18:36:...|0.789063| 0.065031|\n",
            "|2018-08-08 18:36:...|0.785156|-0.161642|\n",
            "|2018-08-08 18:36:...| 0.78125|-0.388257|\n",
            "|2018-08-08 18:36:...|0.785156|-0.161642|\n",
            "|2018-08-08 18:36:...|0.789063| 0.065031|\n",
            "|2018-08-08 18:36:...| 0.78125|-0.388257|\n",
            "|2018-08-08 18:36:...|0.789063| 0.065031|\n",
            "|2018-08-08 18:36:...|0.785156|-0.161642|\n",
            "|2018-08-08 18:36:...|0.785156|-0.161642|\n",
            "|2018-08-08 18:36:...| 0.78125|-0.388257|\n",
            "|2018-08-08 18:36:...| 0.78125|-0.388257|\n",
            "|2018-08-08 18:36:...| 0.78125|-0.388257|\n",
            "|2018-08-08 18:36:...|0.789063| 0.065031|\n",
            "|2018-08-08 18:36:...|0.785156|-0.161642|\n",
            "|2018-08-08 18:36:...|0.785156|-0.161642|\n",
            "|2018-08-08 18:36:...|0.789063| 0.065031|\n",
            "|2018-08-08 18:36:...|0.789063| 0.065031|\n",
            "|2018-08-08 18:36:...|0.785156|-0.161642|\n",
            "|2018-08-08 18:36:...|0.785156|-0.161642|\n",
            "|2018-08-08 18:36:...|0.785156|-0.161642|\n",
            "+--------------------+--------+---------+\n",
            "only showing top 20 rows\n",
            "\n"
          ],
          "name": "stdout"
        }
      ]
    },
    {
      "cell_type": "code",
      "metadata": {
        "id": "2Lp4oi6iOaUd",
        "colab_type": "code",
        "colab": {}
      },
      "source": [
        "scaledData.createOrReplaceTempView(\"scaledData\")\n",
        "temp_df = spark.sql(\"select timestamp,Z,Zscale from scaledData\").cache()"
      ],
      "execution_count": 0,
      "outputs": []
    },
    {
      "cell_type": "code",
      "metadata": {
        "id": "oI5C38SqOaUh",
        "colab_type": "code",
        "outputId": "89faaaeb-caec-4145-f4d8-7ecec88c886d",
        "colab": {
          "base_uri": "https://localhost:8080/",
          "height": 469
        }
      },
      "source": [
        "temp_df = temp_df.withColumn(\"timestamp1\", to_timestamp(\"timestamp\", 'yyyy-MM-dd HH:mm:ss')).cache()\n",
        "temp_df.show()"
      ],
      "execution_count": 0,
      "outputs": [
        {
          "output_type": "stream",
          "text": [
            "+--------------------+--------+---------+-------------------+\n",
            "|           timestamp|       Z|   Zscale|         timestamp1|\n",
            "+--------------------+--------+---------+-------------------+\n",
            "|2018-08-08 18:36:...|0.789063| 0.065031|2018-08-08 18:36:00|\n",
            "|2018-08-08 18:36:...|0.785156|-0.161642|2018-08-08 18:36:00|\n",
            "|2018-08-08 18:36:...| 0.78125|-0.388257|2018-08-08 18:36:00|\n",
            "|2018-08-08 18:36:...|0.785156|-0.161642|2018-08-08 18:36:00|\n",
            "|2018-08-08 18:36:...|0.789063| 0.065031|2018-08-08 18:36:00|\n",
            "|2018-08-08 18:36:...| 0.78125|-0.388257|2018-08-08 18:36:00|\n",
            "|2018-08-08 18:36:...|0.789063| 0.065031|2018-08-08 18:36:00|\n",
            "|2018-08-08 18:36:...|0.785156|-0.161642|2018-08-08 18:36:00|\n",
            "|2018-08-08 18:36:...|0.785156|-0.161642|2018-08-08 18:36:00|\n",
            "|2018-08-08 18:36:...| 0.78125|-0.388257|2018-08-08 18:36:00|\n",
            "|2018-08-08 18:36:...| 0.78125|-0.388257|2018-08-08 18:36:00|\n",
            "|2018-08-08 18:36:...| 0.78125|-0.388257|2018-08-08 18:36:00|\n",
            "|2018-08-08 18:36:...|0.789063| 0.065031|2018-08-08 18:36:00|\n",
            "|2018-08-08 18:36:...|0.785156|-0.161642|2018-08-08 18:36:00|\n",
            "|2018-08-08 18:36:...|0.785156|-0.161642|2018-08-08 18:36:00|\n",
            "|2018-08-08 18:36:...|0.789063| 0.065031|2018-08-08 18:36:00|\n",
            "|2018-08-08 18:36:...|0.789063| 0.065031|2018-08-08 18:36:00|\n",
            "|2018-08-08 18:36:...|0.785156|-0.161642|2018-08-08 18:36:00|\n",
            "|2018-08-08 18:36:...|0.785156|-0.161642|2018-08-08 18:36:00|\n",
            "|2018-08-08 18:36:...|0.785156|-0.161642|2018-08-08 18:36:00|\n",
            "+--------------------+--------+---------+-------------------+\n",
            "only showing top 20 rows\n",
            "\n"
          ],
          "name": "stdout"
        }
      ]
    },
    {
      "cell_type": "code",
      "metadata": {
        "id": "nC-COJDJOaUn",
        "colab_type": "code",
        "outputId": "04f79119-8d5f-450c-9f64-b69150ce4c1f",
        "colab": {
          "base_uri": "https://localhost:8080/",
          "height": 469
        }
      },
      "source": [
        "movAvg = temp_df.withColumn(\"movingAverage\", avg(temp_df[\"Zscale\"])\n",
        "             .over( Window.partitionBy(temp_df[\"timestamp1\"]).rowsBetween(-1,1))).cache()\n",
        "movAvg.show()"
      ],
      "execution_count": 0,
      "outputs": [
        {
          "output_type": "stream",
          "text": [
            "+--------------------+--------+---------+-------------------+--------------------+\n",
            "|           timestamp|       Z|   Zscale|         timestamp1|       movingAverage|\n",
            "+--------------------+--------+---------+-------------------+--------------------+\n",
            "|2018-08-08 18:36:...|0.792969| 0.291645|2018-08-08 18:36:55| 0.06500149999999999|\n",
            "|2018-08-08 18:36:...|0.785156|-0.161642|2018-08-08 18:36:55|-0.08608466666666668|\n",
            "|2018-08-08 18:36:...| 0.78125|-0.388257|2018-08-08 18:36:55|-0.08608466666666668|\n",
            "|2018-08-08 18:36:...|0.792969| 0.291645|2018-08-08 18:36:55|-0.16162300000000002|\n",
            "|2018-08-08 18:36:...| 0.78125|-0.388257|2018-08-08 18:36:55|-0.08608466666666668|\n",
            "|2018-08-08 18:36:...|0.785156|-0.161642|2018-08-08 18:36:55|-0.08608466666666668|\n",
            "|2018-08-08 18:36:...|0.792969| 0.291645|2018-08-08 18:36:55| 0.14054933333333333|\n",
            "|2018-08-08 18:36:...|0.792969| 0.291645|2018-08-08 18:36:55| 0.14054933333333333|\n",
            "|2018-08-08 18:36:...|0.785156|-0.161642|2018-08-08 18:36:55| 0.14054933333333333|\n",
            "|2018-08-08 18:36:...|0.792969| 0.291645|2018-08-08 18:36:55| 0.06501133333333332|\n",
            "|2018-08-08 18:36:...|0.789063| 0.065031|2018-08-08 18:36:55| 0.06501133333333332|\n",
            "|2018-08-08 18:36:...|0.785156|-0.161642|2018-08-08 18:36:55|-0.08608433333333333|\n",
            "|2018-08-08 18:36:...|0.785156|-0.161642|2018-08-08 18:36:55|-0.08608433333333333|\n",
            "|2018-08-08 18:36:...|0.789063| 0.065031|2018-08-08 18:36:55|-0.08608433333333333|\n",
            "|2018-08-08 18:36:...|0.785156|-0.161642|2018-08-08 18:36:55|-0.01052666666666...|\n",
            "|2018-08-08 18:36:...|0.789063| 0.065031|2018-08-08 18:36:55|-0.08608433333333333|\n",
            "|2018-08-08 18:36:...|0.785156|-0.161642|2018-08-08 18:36:55|-0.01052666666666...|\n",
            "|2018-08-08 18:36:...|0.789063| 0.065031|2018-08-08 18:36:55|-0.01052666666666...|\n",
            "|2018-08-08 18:36:...|0.789063| 0.065031|2018-08-08 18:36:55|-0.01052666666666...|\n",
            "|2018-08-08 18:36:...|0.785156|-0.161642|2018-08-08 18:36:55| 0.06501133333333332|\n",
            "+--------------------+--------+---------+-------------------+--------------------+\n",
            "only showing top 20 rows\n",
            "\n"
          ],
          "name": "stdout"
        }
      ]
    },
    {
      "cell_type": "markdown",
      "metadata": {
        "id": "9-PbVpRjOaUt",
        "colab_type": "text"
      },
      "source": [
        "### Normal Anomaly detection"
      ]
    },
    {
      "cell_type": "code",
      "metadata": {
        "id": "0EBe2mweOaUu",
        "colab_type": "code",
        "outputId": "d2db2def-ffa7-4e88-8caf-69536ac99b78",
        "colab": {
          "base_uri": "https://localhost:8080/",
          "height": 52
        }
      },
      "source": [
        "mean = temp_df.groupBy().avg(\"Zscale\").take(1)[0][0]\n",
        "\n",
        "df_stats = temp_df.select(functions.stddev(col('Zscale')).alias('stdFull')).collect()\n",
        "std = df_stats[0]['stdFull']\n",
        "\n",
        "print(mean)\n",
        "print(std)"
      ],
      "execution_count": 0,
      "outputs": [
        {
          "output_type": "stream",
          "text": [
            "1.730263161592889e-07\n",
            "1.0000000160929277\n"
          ],
          "name": "stdout"
        }
      ]
    },
    {
      "cell_type": "code",
      "metadata": {
        "id": "2AfzBAjPOaUz",
        "colab_type": "code",
        "outputId": "1bf7711d-b482-48c3-d9d6-9e5739342f65",
        "colab": {
          "base_uri": "https://localhost:8080/",
          "height": 469
        }
      },
      "source": [
        "temp_df = temp_df.withColumn(\"distance\", (temp_df['Zscale']-mean)/std)\n",
        "temp_df.show()"
      ],
      "execution_count": 0,
      "outputs": [
        {
          "output_type": "stream",
          "text": [
            "+--------------------+--------+---------+-------------------+--------------------+\n",
            "|           timestamp|       Z|   Zscale|         timestamp1|            distance|\n",
            "+--------------------+--------+---------+-------------------+--------------------+\n",
            "|2018-08-08 18:36:...|0.789063| 0.065031|2018-08-08 18:36:00| 0.06503082592714747|\n",
            "|2018-08-08 18:36:...|0.785156|-0.161642|2018-08-08 18:36:00| -0.1616421704250204|\n",
            "|2018-08-08 18:36:...| 0.78125|-0.388257|2018-08-08 18:36:00|-0.38825716677812167|\n",
            "|2018-08-08 18:36:...|0.785156|-0.161642|2018-08-08 18:36:00| -0.1616421704250204|\n",
            "|2018-08-08 18:36:...|0.789063| 0.065031|2018-08-08 18:36:00| 0.06503082592714747|\n",
            "|2018-08-08 18:36:...| 0.78125|-0.388257|2018-08-08 18:36:00|-0.38825716677812167|\n",
            "|2018-08-08 18:36:...|0.789063| 0.065031|2018-08-08 18:36:00| 0.06503082592714747|\n",
            "|2018-08-08 18:36:...|0.785156|-0.161642|2018-08-08 18:36:00| -0.1616421704250204|\n",
            "|2018-08-08 18:36:...|0.785156|-0.161642|2018-08-08 18:36:00| -0.1616421704250204|\n",
            "|2018-08-08 18:36:...| 0.78125|-0.388257|2018-08-08 18:36:00|-0.38825716677812167|\n",
            "|2018-08-08 18:36:...| 0.78125|-0.388257|2018-08-08 18:36:00|-0.38825716677812167|\n",
            "|2018-08-08 18:36:...| 0.78125|-0.388257|2018-08-08 18:36:00|-0.38825716677812167|\n",
            "|2018-08-08 18:36:...|0.789063| 0.065031|2018-08-08 18:36:00| 0.06503082592714747|\n",
            "|2018-08-08 18:36:...|0.785156|-0.161642|2018-08-08 18:36:00| -0.1616421704250204|\n",
            "|2018-08-08 18:36:...|0.785156|-0.161642|2018-08-08 18:36:00| -0.1616421704250204|\n",
            "|2018-08-08 18:36:...|0.789063| 0.065031|2018-08-08 18:36:00| 0.06503082592714747|\n",
            "|2018-08-08 18:36:...|0.789063| 0.065031|2018-08-08 18:36:00| 0.06503082592714747|\n",
            "|2018-08-08 18:36:...|0.785156|-0.161642|2018-08-08 18:36:00| -0.1616421704250204|\n",
            "|2018-08-08 18:36:...|0.785156|-0.161642|2018-08-08 18:36:00| -0.1616421704250204|\n",
            "|2018-08-08 18:36:...|0.785156|-0.161642|2018-08-08 18:36:00| -0.1616421704250204|\n",
            "+--------------------+--------+---------+-------------------+--------------------+\n",
            "only showing top 20 rows\n",
            "\n"
          ],
          "name": "stdout"
        }
      ]
    },
    {
      "cell_type": "code",
      "metadata": {
        "id": "EupdMCbCOaU6",
        "colab_type": "code",
        "outputId": "1ce67ee4-b97d-4898-b9e4-3f56fe983149",
        "colab": {
          "base_uri": "https://localhost:8080/",
          "height": 469
        }
      },
      "source": [
        "temp_df.createOrReplaceTempView(\"anomalyData\")\n",
        "anomaly1_df = spark.sql(\"select * from anomalyData where distance > 4 or distance < -4\")\n",
        "anomaly1_df.show()"
      ],
      "execution_count": 0,
      "outputs": [
        {
          "output_type": "stream",
          "text": [
            "+--------------------+--------+---------+-------------------+-------------------+\n",
            "|           timestamp|       Z|   Zscale|         timestamp1|           distance|\n",
            "+--------------------+--------+---------+-------------------+-------------------+\n",
            "|2018-08-08 18:36:...|0.695313|-5.374069|2018-08-08 18:36:38|-5.3740690865418115|\n",
            "|2018-08-08 18:36:...|0.675781|-6.507258|2018-08-08 18:36:38| -6.507258068305482|\n",
            "|2018-08-08 18:36:...|0.679688|-6.280586|2018-08-08 18:36:38| -6.280586071953298|\n",
            "|2018-08-08 18:36:...|0.714844|-4.240938|2018-08-08 18:36:38|-4.2409381047772055|\n",
            "|2018-08-08 18:36:...| 0.71875|-4.014323|2018-08-08 18:36:38|-4.0143231084241044|\n",
            "|2018-08-08 18:36:...| 0.71875|-4.014323|2018-08-08 18:36:38|-4.0143231084241044|\n",
            "|2018-08-08 18:36:...|0.859375| 4.144326|2018-08-08 18:36:43|   4.14432576027935|\n",
            "|2018-08-08 18:36:...|0.871094| 4.824228|2018-08-08 18:36:43| 4.8242277493377355|\n",
            "|2018-08-08 18:36:...|0.871094| 4.824228|2018-08-08 18:36:43| 4.8242277493377355|\n",
            "|2018-08-08 18:36:...|   0.875| 5.050843|2018-08-08 18:36:43|  5.050842745690837|\n",
            "|2018-08-08 18:36:...|0.867188| 4.597614|2018-08-08 18:36:43|  4.597613752984619|\n",
            "|2018-08-08 18:36:...|0.871094| 4.824228|2018-08-08 18:36:46| 4.8242277493377355|\n",
            "|2018-08-08 18:36:...|0.867188| 4.597614|2018-08-08 18:36:46|  4.597613752984619|\n",
            "|2018-08-08 18:36:...|0.886719| 5.730745|2018-08-08 18:36:58|  5.730744734749224|\n",
            "|2018-08-08 18:36:...|0.933594| 8.450295|2018-08-08 18:36:58|  8.450294690983702|\n",
            "|2018-08-08 18:36:...|0.945313| 9.130197|2018-08-08 18:36:58|   9.13019668004209|\n",
            "|2018-08-08 18:36:...|0.933594| 8.450295|2018-08-08 18:36:58|  8.450294690983702|\n",
            "|2018-08-08 18:36:...|0.910156| 7.090491|2018-08-08 18:36:58|   7.09049071286693|\n",
            "|2018-08-08 18:36:...|0.890625|  5.95736|2018-08-08 18:36:58|  5.957359731102326|\n",
            "|2018-08-08 18:36:...|0.890625|  5.95736|2018-08-08 18:36:58|  5.957359731102326|\n",
            "+--------------------+--------+---------+-------------------+-------------------+\n",
            "only showing top 20 rows\n",
            "\n"
          ],
          "name": "stdout"
        }
      ]
    },
    {
      "cell_type": "code",
      "metadata": {
        "id": "qxTzzydVOaU_",
        "colab_type": "code",
        "outputId": "1ada72c9-03e5-4df5-a729-ab3929f5d56b",
        "colab": {
          "base_uri": "https://localhost:8080/",
          "height": 139
        }
      },
      "source": [
        "anomaly1_df = anomaly1_df.withColumn(\"anomaly_count\", functions.count(anomaly1_df[\"distance\"])\n",
        "             .over( Window.partitionBy(anomaly1_df[\"timestamp1\"]))).cache()\n",
        "final_df = anomaly1_df.select('timestamp1', 'anomaly_count').where(anomaly1_df['anomaly_count']>5).dropDuplicates().cache()\n",
        "final_df = final_df.withColumnRenamed('timestamp1', 'time')\n",
        "final_df = final_df.withColumnRenamed('anomaly_count', 'count')\n",
        "final_df.show()"
      ],
      "execution_count": 0,
      "outputs": [
        {
          "output_type": "stream",
          "text": [
            "+-------------------+-----+\n",
            "|               time|count|\n",
            "+-------------------+-----+\n",
            "|2018-08-08 18:36:58|   17|\n",
            "|2018-08-08 18:36:38|    6|\n",
            "+-------------------+-----+\n",
            "\n"
          ],
          "name": "stdout"
        }
      ]
    },
    {
      "cell_type": "code",
      "metadata": {
        "id": "TjlrGItNOaVF",
        "colab_type": "code",
        "outputId": "a24fd5dc-14ee-409b-dc53-ae3baf7edef9",
        "colab": {
          "base_uri": "https://localhost:8080/",
          "height": 469
        }
      },
      "source": [
        "target_df = temp_df.join(final_df, temp_df.timestamp1 == final_df.time, how=\"left\").cache()\n",
        "target_df = target_df.select(target_df['timestamp'],target_df['Z'],target_df['count'])\n",
        "target_df = target_df.na.fill(0)\n",
        "target_df.show()"
      ],
      "execution_count": 0,
      "outputs": [
        {
          "output_type": "stream",
          "text": [
            "+--------------------+--------+-----+\n",
            "|           timestamp|       Z|count|\n",
            "+--------------------+--------+-----+\n",
            "|2018-08-08 18:36:...|0.789063|    0|\n",
            "|2018-08-08 18:36:...|0.785156|    0|\n",
            "|2018-08-08 18:36:...| 0.78125|    0|\n",
            "|2018-08-08 18:36:...|0.785156|    0|\n",
            "|2018-08-08 18:36:...|0.789063|    0|\n",
            "|2018-08-08 18:36:...| 0.78125|    0|\n",
            "|2018-08-08 18:36:...|0.789063|    0|\n",
            "|2018-08-08 18:36:...|0.785156|    0|\n",
            "|2018-08-08 18:36:...|0.785156|    0|\n",
            "|2018-08-08 18:36:...| 0.78125|    0|\n",
            "|2018-08-08 18:36:...| 0.78125|    0|\n",
            "|2018-08-08 18:36:...| 0.78125|    0|\n",
            "|2018-08-08 18:36:...|0.789063|    0|\n",
            "|2018-08-08 18:36:...|0.785156|    0|\n",
            "|2018-08-08 18:36:...|0.785156|    0|\n",
            "|2018-08-08 18:36:...|0.789063|    0|\n",
            "|2018-08-08 18:36:...|0.789063|    0|\n",
            "|2018-08-08 18:36:...|0.785156|    0|\n",
            "|2018-08-08 18:36:...|0.785156|    0|\n",
            "|2018-08-08 18:36:...|0.785156|    0|\n",
            "+--------------------+--------+-----+\n",
            "only showing top 20 rows\n",
            "\n"
          ],
          "name": "stdout"
        }
      ]
    },
    {
      "cell_type": "code",
      "metadata": {
        "id": "jzSXn_x_OaVP",
        "colab_type": "code",
        "outputId": "4973fe2a-f9e2-4fa7-d58d-ae5d39c94fca",
        "colab": {
          "base_uri": "https://localhost:8080/",
          "height": 469
        }
      },
      "source": [
        "def distlabel(count):\n",
        "    label = 0\n",
        "    if count > 0:\n",
        "        label = 1\n",
        "    return label\n",
        "\n",
        "\n",
        "udf_distlabel = udf(lambda count: distlabel(count),types.IntegerType())\n",
        "target_df = target_df.withColumn(\"anomaly\", udf_distlabel(\"count\")).cache()\n",
        "target_df = target_df.drop('count')\n",
        "target_df.show()"
      ],
      "execution_count": 0,
      "outputs": [
        {
          "output_type": "stream",
          "text": [
            "+--------------------+--------+-------+\n",
            "|           timestamp|       Z|anomaly|\n",
            "+--------------------+--------+-------+\n",
            "|2018-08-08 18:36:...|0.789063|      0|\n",
            "|2018-08-08 18:36:...|0.785156|      0|\n",
            "|2018-08-08 18:36:...| 0.78125|      0|\n",
            "|2018-08-08 18:36:...|0.785156|      0|\n",
            "|2018-08-08 18:36:...|0.789063|      0|\n",
            "|2018-08-08 18:36:...| 0.78125|      0|\n",
            "|2018-08-08 18:36:...|0.789063|      0|\n",
            "|2018-08-08 18:36:...|0.785156|      0|\n",
            "|2018-08-08 18:36:...|0.785156|      0|\n",
            "|2018-08-08 18:36:...| 0.78125|      0|\n",
            "|2018-08-08 18:36:...| 0.78125|      0|\n",
            "|2018-08-08 18:36:...| 0.78125|      0|\n",
            "|2018-08-08 18:36:...|0.789063|      0|\n",
            "|2018-08-08 18:36:...|0.785156|      0|\n",
            "|2018-08-08 18:36:...|0.785156|      0|\n",
            "|2018-08-08 18:36:...|0.789063|      0|\n",
            "|2018-08-08 18:36:...|0.789063|      0|\n",
            "|2018-08-08 18:36:...|0.785156|      0|\n",
            "|2018-08-08 18:36:...|0.785156|      0|\n",
            "|2018-08-08 18:36:...|0.785156|      0|\n",
            "+--------------------+--------+-------+\n",
            "only showing top 20 rows\n",
            "\n"
          ],
          "name": "stdout"
        }
      ]
    },
    {
      "cell_type": "code",
      "metadata": {
        "id": "A1e0InFcOaVV",
        "colab_type": "code",
        "outputId": "5a8fa098-25ff-4da6-b06a-10ece2b2d0d7",
        "colab": {
          "base_uri": "https://localhost:8080/",
          "height": 469
        }
      },
      "source": [
        "target_df.orderBy('timestamp').show()"
      ],
      "execution_count": 0,
      "outputs": [
        {
          "output_type": "stream",
          "text": [
            "+--------------------+--------+-------+\n",
            "|           timestamp|       Z|anomaly|\n",
            "+--------------------+--------+-------+\n",
            "|2018-08-08 18:36:...|0.789063|      0|\n",
            "|2018-08-08 18:36:...|0.785156|      0|\n",
            "|2018-08-08 18:36:...| 0.78125|      0|\n",
            "|2018-08-08 18:36:...|0.785156|      0|\n",
            "|2018-08-08 18:36:...|0.789063|      0|\n",
            "|2018-08-08 18:36:...| 0.78125|      0|\n",
            "|2018-08-08 18:36:...|0.789063|      0|\n",
            "|2018-08-08 18:36:...|0.785156|      0|\n",
            "|2018-08-08 18:36:...|0.785156|      0|\n",
            "|2018-08-08 18:36:...| 0.78125|      0|\n",
            "|2018-08-08 18:36:...| 0.78125|      0|\n",
            "|2018-08-08 18:36:...| 0.78125|      0|\n",
            "|2018-08-08 18:36:...|0.789063|      0|\n",
            "|2018-08-08 18:36:...|0.785156|      0|\n",
            "|2018-08-08 18:36:...|0.785156|      0|\n",
            "|2018-08-08 18:36:...|0.789063|      0|\n",
            "|2018-08-08 18:36:...|0.789063|      0|\n",
            "|2018-08-08 18:36:...|0.785156|      0|\n",
            "|2018-08-08 18:36:...|0.785156|      0|\n",
            "|2018-08-08 18:36:...|0.785156|      0|\n",
            "+--------------------+--------+-------+\n",
            "only showing top 20 rows\n",
            "\n"
          ],
          "name": "stdout"
        }
      ]
    },
    {
      "cell_type": "code",
      "metadata": {
        "id": "l0qIXkQOOaVZ",
        "colab_type": "code",
        "outputId": "4ca03fb1-3143-4db8-9397-286295c6c267",
        "colab": {
          "base_uri": "https://localhost:8080/",
          "height": 260
        }
      },
      "source": [
        "target_pd = target_df.toPandas()\n",
        "print(target_pd)"
      ],
      "execution_count": 0,
      "outputs": [
        {
          "output_type": "stream",
          "text": [
            "                    timestamp         Z  anomaly\n",
            "0     2018-08-08 18:36:00.037  0.789063        0\n",
            "1     2018-08-08 18:36:00.076  0.785156        0\n",
            "2     2018-08-08 18:36:00.116  0.781250        0\n",
            "3     2018-08-08 18:36:00.156  0.785156        0\n",
            "4     2018-08-08 18:36:00.195  0.789063        0\n",
            "...                       ...       ...      ...\n",
            "1515  2018-08-08 18:37:00.012  0.781250        0\n",
            "1516  2018-08-08 18:37:00.051  0.804688        0\n",
            "1517  2018-08-08 18:37:00.091  0.777344        0\n",
            "1518  2018-08-08 18:37:00.131  0.773438        0\n",
            "1519  2018-08-08 18:37:00.170  0.808594        0\n",
            "\n",
            "[1520 rows x 3 columns]\n"
          ],
          "name": "stdout"
        }
      ]
    },
    {
      "cell_type": "code",
      "metadata": {
        "id": "mPK0Xau_0I7E",
        "colab_type": "code",
        "colab": {}
      },
      "source": [
        "# Use the file generated for evaluation\n",
        "reference = pd.read_csv('Sample_test_data.csv',header=None)"
      ],
      "execution_count": 0,
      "outputs": []
    },
    {
      "cell_type": "code",
      "metadata": {
        "id": "XlmItnyTdkwx",
        "colab_type": "code",
        "colab": {}
      },
      "source": [
        "\n",
        "reference.rename(columns={ reference.columns[0]: 'Pos',reference.columns[1]: 'Value',reference.columns[2]: 'Anomaly'}, inplace=True)"
      ],
      "execution_count": 0,
      "outputs": []
    },
    {
      "cell_type": "code",
      "metadata": {
        "id": "0AAfoZjeW62l",
        "colab_type": "code",
        "outputId": "99ba3e7c-a3de-4cc9-d769-c9a5eeb95d18",
        "colab": {
          "base_uri": "https://localhost:8080/",
          "height": 470
        }
      },
      "source": [
        "import matplotlib.pyplot as plt\n",
        "plt.rcParams[\"figure.figsize\"] = (20,5)\n",
        "target_pd.sort_values(by=['timestamp'],inplace=True)\n",
        "plt.plot(target_pd['timestamp'],target_pd['Z'],'-')\n",
        "plt.scatter(target_pd.timestamp[target_pd.anomaly==True], target_pd.Z[target_pd.anomaly==True],marker='o',c='red')\n",
        "plt.title('Standard Anomaly Detection')\n",
        "plt.xticks(rotation = 90)\n",
        "plt.legend();"
      ],
      "execution_count": 0,
      "outputs": [
        {
          "output_type": "stream",
          "text": [
            "No handles with labels found to put in legend.\n"
          ],
          "name": "stderr"
        },
        {
          "output_type": "display_data",
          "data": {
            "image/png": "[encoded data removed]",
            "text/plain": [
              "<Figure size 1440x360 with 1 Axes>"
            ]
          },
          "metadata": {
            "tags": [],
            "needs_background": "light"
          }
        }
      ]
    },
    {
      "cell_type": "code",
      "metadata": {
        "id": "KtnvkKQv2C4-",
        "colab_type": "code",
        "colab": {}
      },
      "source": [
        "from sklearn.metrics import confusion_matrix"
      ],
      "execution_count": 0,
      "outputs": []
    },
    {
      "cell_type": "code",
      "metadata": {
        "colab_type": "code",
        "id": "WeACKer9D-n5",
        "colab": {}
      },
      "source": [
        "y_true = reference['Anomaly']    # the true anomaly column(0/1)\n",
        "y_pred = target_pd['anomaly']    # the predicted anomaly column"
      ],
      "execution_count": 0,
      "outputs": []
    },
    {
      "cell_type": "code",
      "metadata": {
        "colab_type": "code",
        "id": "HVzf3x0lD-9F",
        "colab": {}
      },
      "source": [
        "# Find the confusion matrix\n",
        "tn,fp,fn,tp = confusion_matrix(y_true,y_pred).ravel()"
      ],
      "execution_count": 0,
      "outputs": []
    },
    {
      "cell_type": "code",
      "metadata": {
        "id": "eTSHbi03EFBH",
        "colab_type": "code",
        "outputId": "999729d0-354f-471f-f585-6a857fc19a80",
        "colab": {
          "base_uri": "https://localhost:8080/",
          "height": 86
        }
      },
      "source": [
        "print(\"True negatives :\",tn)\n",
        "print(\"False positives :\",fp)\n",
        "print(\"True positives :\",fn)\n",
        "print(\"False negatives :\",tp)"
      ],
      "execution_count": 0,
      "outputs": [
        {
          "output_type": "stream",
          "text": [
            "True negatives : 1435\n",
            "False positives : 36\n",
            "True positives : 35\n",
            "False negatives : 14\n"
          ],
          "name": "stdout"
        }
      ]
    },
    {
      "cell_type": "code",
      "metadata": {
        "id": "ztO63m7x2U2G",
        "colab_type": "code",
        "colab": {}
      },
      "source": [
        "# Calculate precision and recall\n",
        "\n",
        "precision = tp/(tp + fp)\n",
        "recall = tp/(tp + fn) "
      ],
      "execution_count": 0,
      "outputs": []
    },
    {
      "cell_type": "code",
      "metadata": {
        "id": "Sk3IG6PaDxrt",
        "colab_type": "code",
        "outputId": "849ae34f-6f33-4012-bd58-50f215de6186",
        "colab": {
          "base_uri": "https://localhost:8080/",
          "height": 34
        }
      },
      "source": [
        "precision"
      ],
      "execution_count": 0,
      "outputs": [
        {
          "output_type": "execute_result",
          "data": {
            "text/plain": [
              "0.28"
            ]
          },
          "metadata": {
            "tags": []
          },
          "execution_count": 98
        }
      ]
    },
    {
      "cell_type": "code",
      "metadata": {
        "id": "gjoXigqcDzjA",
        "colab_type": "code",
        "outputId": "29a3ece3-8ae9-4982-932c-01be8f2fea29",
        "colab": {
          "base_uri": "https://localhost:8080/",
          "height": 34
        }
      },
      "source": [
        "recall"
      ],
      "execution_count": 0,
      "outputs": [
        {
          "output_type": "execute_result",
          "data": {
            "text/plain": [
              "0.2857142857142857"
            ]
          },
          "metadata": {
            "tags": []
          },
          "execution_count": 99
        }
      ]
    },
    {
      "cell_type": "code",
      "metadata": {
        "id": "pIVzZilm31W7",
        "colab_type": "code",
        "colab": {}
      },
      "source": [
        "f1_score = (2*(precision * recall))/(precision + recall)"
      ],
      "execution_count": 0,
      "outputs": []
    },
    {
      "cell_type": "code",
      "metadata": {
        "id": "sz6-r2t26SWC",
        "colab_type": "code",
        "outputId": "bc268f85-7ceb-4696-bf5f-f547407f9dc0",
        "colab": {
          "base_uri": "https://localhost:8080/",
          "height": 34
        }
      },
      "source": [
        "f1_score"
      ],
      "execution_count": 0,
      "outputs": [
        {
          "output_type": "execute_result",
          "data": {
            "text/plain": [
              "0.2828282828282828"
            ]
          },
          "metadata": {
            "tags": []
          },
          "execution_count": 101
        }
      ]
    }
  ]
}